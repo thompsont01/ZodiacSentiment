{
 "cells": [
  {
   "cell_type": "code",
   "execution_count": null,
   "metadata": {
    "id": "Twa51VlwRieh"
   },
   "outputs": [],
   "source": [
    "#Authors:\n",
    "#Trevor Kleinstuber\n",
    "#Laura Paakh\n",
    "#Stephen Hong\n",
    "#Thompson Tang\n",
    "\n",
    "#2020 Twitter Zodiac Sentiment Analysis"
   ]
  },
  {
   "cell_type": "code",
   "execution_count": null,
   "metadata": {
    "id": "Xhelg9XfU80V"
   },
   "outputs": [],
   "source": []
  },
  {
   "cell_type": "code",
   "execution_count": 2,
   "metadata": {
    "id": "i2Et3jYWXonb"
   },
   "outputs": [],
   "source": [
    "import pandas as pd"
   ]
  },
  {
   "cell_type": "code",
   "execution_count": null,
   "metadata": {
    "id": "yLG90dTsYJbv"
   },
   "outputs": [],
   "source": [
    "#data = pd.read_csv('/content/training.1600000.processed.noemoticon.csv')"
   ]
  },
  {
   "cell_type": "code",
   "execution_count": null,
   "metadata": {
    "colab": {
     "base_uri": "https://localhost:8080/",
     "height": 323
    },
    "id": "29HoFYudYNbh",
    "outputId": "5ef751cf-f6dd-4629-998d-4d007c85152e"
   },
   "outputs": [
    {
     "data": {
      "text/html": [
       "<div>\n",
       "<style scoped>\n",
       "    .dataframe tbody tr th:only-of-type {\n",
       "        vertical-align: middle;\n",
       "    }\n",
       "\n",
       "    .dataframe tbody tr th {\n",
       "        vertical-align: top;\n",
       "    }\n",
       "\n",
       "    .dataframe thead th {\n",
       "        text-align: right;\n",
       "    }\n",
       "</style>\n",
       "<table border=\"1\" class=\"dataframe\">\n",
       "  <thead>\n",
       "    <tr style=\"text-align: right;\">\n",
       "      <th></th>\n",
       "      <th>0</th>\n",
       "      <th>1467810369</th>\n",
       "      <th>Mon Apr 06 22:19:45 PDT 2009</th>\n",
       "      <th>NO_QUERY</th>\n",
       "      <th>_TheSpecialOne_</th>\n",
       "      <th>@switchfoot http://twitpic.com/2y1zl - Awww, that's a bummer.  You shoulda got David Carr of Third Day to do it. ;D</th>\n",
       "    </tr>\n",
       "  </thead>\n",
       "  <tbody>\n",
       "    <tr>\n",
       "      <th>0</th>\n",
       "      <td>0</td>\n",
       "      <td>1467810672</td>\n",
       "      <td>Mon Apr 06 22:19:49 PDT 2009</td>\n",
       "      <td>NO_QUERY</td>\n",
       "      <td>scotthamilton</td>\n",
       "      <td>is upset that he can't update his Facebook by ...</td>\n",
       "    </tr>\n",
       "    <tr>\n",
       "      <th>1</th>\n",
       "      <td>0</td>\n",
       "      <td>1467810917</td>\n",
       "      <td>Mon Apr 06 22:19:53 PDT 2009</td>\n",
       "      <td>NO_QUERY</td>\n",
       "      <td>mattycus</td>\n",
       "      <td>@Kenichan I dived many times for the ball. Man...</td>\n",
       "    </tr>\n",
       "    <tr>\n",
       "      <th>2</th>\n",
       "      <td>0</td>\n",
       "      <td>1467811184</td>\n",
       "      <td>Mon Apr 06 22:19:57 PDT 2009</td>\n",
       "      <td>NO_QUERY</td>\n",
       "      <td>ElleCTF</td>\n",
       "      <td>my whole body feels itchy and like its on fire</td>\n",
       "    </tr>\n",
       "    <tr>\n",
       "      <th>3</th>\n",
       "      <td>0</td>\n",
       "      <td>1467811193</td>\n",
       "      <td>Mon Apr 06 22:19:57 PDT 2009</td>\n",
       "      <td>NO_QUERY</td>\n",
       "      <td>Karoli</td>\n",
       "      <td>@nationwideclass no, it's not behaving at all....</td>\n",
       "    </tr>\n",
       "    <tr>\n",
       "      <th>4</th>\n",
       "      <td>0</td>\n",
       "      <td>1467811372</td>\n",
       "      <td>Mon Apr 06 22:20:00 PDT 2009</td>\n",
       "      <td>NO_QUERY</td>\n",
       "      <td>joy_wolf</td>\n",
       "      <td>@Kwesidei not the whole crew</td>\n",
       "    </tr>\n",
       "  </tbody>\n",
       "</table>\n",
       "</div>"
      ],
      "text/plain": [
       "   0  ...  @switchfoot http://twitpic.com/2y1zl - Awww, that's a bummer.  You shoulda got David Carr of Third Day to do it. ;D\n",
       "0  0  ...  is upset that he can't update his Facebook by ...                                                                  \n",
       "1  0  ...  @Kenichan I dived many times for the ball. Man...                                                                  \n",
       "2  0  ...    my whole body feels itchy and like its on fire                                                                   \n",
       "3  0  ...  @nationwideclass no, it's not behaving at all....                                                                  \n",
       "4  0  ...                      @Kwesidei not the whole crew                                                                   \n",
       "\n",
       "[5 rows x 6 columns]"
      ]
     },
     "execution_count": 5,
     "metadata": {
      "tags": []
     },
     "output_type": "execute_result"
    }
   ],
   "source": [
    "#data.head()"
   ]
  },
  {
   "cell_type": "code",
   "execution_count": null,
   "metadata": {
    "colab": {
     "base_uri": "https://localhost:8080/",
     "height": 733
    },
    "id": "9aBBtg_7YRAm",
    "outputId": "d97df43b-4ad1-48de-de16-3c64e4a2dc9e"
   },
   "outputs": [
    {
     "data": {
      "text/html": [
       "<div>\n",
       "<style scoped>\n",
       "    .dataframe tbody tr th:only-of-type {\n",
       "        vertical-align: middle;\n",
       "    }\n",
       "\n",
       "    .dataframe tbody tr th {\n",
       "        vertical-align: top;\n",
       "    }\n",
       "\n",
       "    .dataframe thead th {\n",
       "        text-align: right;\n",
       "    }\n",
       "</style>\n",
       "<table border=\"1\" class=\"dataframe\">\n",
       "  <thead>\n",
       "    <tr style=\"text-align: right;\">\n",
       "      <th></th>\n",
       "      <th>0</th>\n",
       "      <th>1467810369</th>\n",
       "      <th>Mon Apr 06 22:19:45 PDT 2009</th>\n",
       "      <th>NO_QUERY</th>\n",
       "      <th>_TheSpecialOne_</th>\n",
       "      <th>@switchfoot http://twitpic.com/2y1zl - Awww, that's a bummer.  You shoulda got David Carr of Third Day to do it. ;D</th>\n",
       "    </tr>\n",
       "  </thead>\n",
       "  <tbody>\n",
       "    <tr>\n",
       "      <th>130525</th>\n",
       "      <td>0</td>\n",
       "      <td>1835328873</td>\n",
       "      <td>Mon May 18 05:44:09 PDT 2009</td>\n",
       "      <td>NO_QUERY</td>\n",
       "      <td>mysteef</td>\n",
       "      <td>Just one hour 2 go.... what a week Only saturd...</td>\n",
       "    </tr>\n",
       "    <tr>\n",
       "      <th>88046</th>\n",
       "      <td>0</td>\n",
       "      <td>1754706462</td>\n",
       "      <td>Sun May 10 07:08:15 PDT 2009</td>\n",
       "      <td>NO_QUERY</td>\n",
       "      <td>sophieprisco</td>\n",
       "      <td>@rubylux I would guys if i was in London.</td>\n",
       "    </tr>\n",
       "    <tr>\n",
       "      <th>49930</th>\n",
       "      <td>0</td>\n",
       "      <td>1678313542</td>\n",
       "      <td>Sat May 02 06:17:39 PDT 2009</td>\n",
       "      <td>NO_QUERY</td>\n",
       "      <td>pr1001</td>\n",
       "      <td>I suck at making widgets, Opera keeps rejectin...</td>\n",
       "    </tr>\n",
       "    <tr>\n",
       "      <th>111420</th>\n",
       "      <td>0</td>\n",
       "      <td>1825121907</td>\n",
       "      <td>Sun May 17 04:26:30 PDT 2009</td>\n",
       "      <td>NO_QUERY</td>\n",
       "      <td>Cins13</td>\n",
       "      <td>I have a Killer hangover today</td>\n",
       "    </tr>\n",
       "    <tr>\n",
       "      <th>131275</th>\n",
       "      <td>0</td>\n",
       "      <td>1835496457</td>\n",
       "      <td>Mon May 18 06:07:29 PDT 2009</td>\n",
       "      <td>NO_QUERY</td>\n",
       "      <td>aureliegomez</td>\n",
       "      <td>hates Jules Ferry to the max, for making schoo...</td>\n",
       "    </tr>\n",
       "    <tr>\n",
       "      <th>48415</th>\n",
       "      <td>0</td>\n",
       "      <td>1677869917</td>\n",
       "      <td>Sat May 02 04:25:26 PDT 2009</td>\n",
       "      <td>NO_QUERY</td>\n",
       "      <td>AndyCorney</td>\n",
       "      <td>@munrodouglas I agree. Warehouse have a modell...</td>\n",
       "    </tr>\n",
       "    <tr>\n",
       "      <th>166189</th>\n",
       "      <td>0</td>\n",
       "      <td>1961178216</td>\n",
       "      <td>Fri May 29 09:06:09 PDT 2009</td>\n",
       "      <td>NO_QUERY</td>\n",
       "      <td>ExotikGoddess</td>\n",
       "      <td>Soo tired, couldn't get enough sleep</td>\n",
       "    </tr>\n",
       "    <tr>\n",
       "      <th>159032</th>\n",
       "      <td>0</td>\n",
       "      <td>1956743619</td>\n",
       "      <td>Thu May 28 22:34:47 PDT 2009</td>\n",
       "      <td>NO_QUERY</td>\n",
       "      <td>marcmez</td>\n",
       "      <td>hard day  hay wackos you can also stock me on ...</td>\n",
       "    </tr>\n",
       "    <tr>\n",
       "      <th>113626</th>\n",
       "      <td>0</td>\n",
       "      <td>1825905335</td>\n",
       "      <td>Sun May 17 07:10:53 PDT 2009</td>\n",
       "      <td>NO_QUERY</td>\n",
       "      <td>bennluis</td>\n",
       "      <td>I hate eating mcdonald's but i'm so hungry ha</td>\n",
       "    </tr>\n",
       "    <tr>\n",
       "      <th>78666</th>\n",
       "      <td>0</td>\n",
       "      <td>1751465068</td>\n",
       "      <td>Sat May 09 19:30:49 PDT 2009</td>\n",
       "      <td>NO_QUERY</td>\n",
       "      <td>joshieeeeeee</td>\n",
       "      <td>Oy... i'm feeling fat... need to work out more</td>\n",
       "    </tr>\n",
       "  </tbody>\n",
       "</table>\n",
       "</div>"
      ],
      "text/plain": [
       "        0  ...  @switchfoot http://twitpic.com/2y1zl - Awww, that's a bummer.  You shoulda got David Carr of Third Day to do it. ;D\n",
       "130525  0  ...  Just one hour 2 go.... what a week Only saturd...                                                                  \n",
       "88046   0  ...         @rubylux I would guys if i was in London.                                                                   \n",
       "49930   0  ...  I suck at making widgets, Opera keeps rejectin...                                                                  \n",
       "111420  0  ...                    I have a Killer hangover today                                                                   \n",
       "131275  0  ...  hates Jules Ferry to the max, for making schoo...                                                                  \n",
       "48415   0  ...  @munrodouglas I agree. Warehouse have a modell...                                                                  \n",
       "166189  0  ...              Soo tired, couldn't get enough sleep                                                                   \n",
       "159032  0  ...  hard day  hay wackos you can also stock me on ...                                                                  \n",
       "113626  0  ...     I hate eating mcdonald's but i'm so hungry ha                                                                   \n",
       "78666   0  ...    Oy... i'm feeling fat... need to work out more                                                                   \n",
       "\n",
       "[10 rows x 6 columns]"
      ]
     },
     "execution_count": 7,
     "metadata": {
      "tags": []
     },
     "output_type": "execute_result"
    }
   ],
   "source": [
    "#data.sample(10)"
   ]
  },
  {
   "cell_type": "code",
   "execution_count": null,
   "metadata": {
    "colab": {
     "base_uri": "https://localhost:8080/",
     "height": 374
    },
    "id": "fKrFegl9Ydmx",
    "outputId": "87b12798-9095-475e-f339-70e44fb40246"
   },
   "outputs": [
    {
     "data": {
      "text/html": [
       "<div>\n",
       "<style scoped>\n",
       "    .dataframe tbody tr th:only-of-type {\n",
       "        vertical-align: middle;\n",
       "    }\n",
       "\n",
       "    .dataframe tbody tr th {\n",
       "        vertical-align: top;\n",
       "    }\n",
       "\n",
       "    .dataframe thead th {\n",
       "        text-align: right;\n",
       "    }\n",
       "</style>\n",
       "<table border=\"1\" class=\"dataframe\">\n",
       "  <thead>\n",
       "    <tr style=\"text-align: right;\">\n",
       "      <th></th>\n",
       "      <th>0</th>\n",
       "      <th>1467810369</th>\n",
       "      <th>Mon Apr 06 22:19:45 PDT 2009</th>\n",
       "      <th>NO_QUERY</th>\n",
       "      <th>_TheSpecialOne_</th>\n",
       "      <th>@switchfoot http://twitpic.com/2y1zl - Awww, that's a bummer.  You shoulda got David Carr of Third Day to do it. ;D</th>\n",
       "    </tr>\n",
       "  </thead>\n",
       "  <tbody>\n",
       "    <tr>\n",
       "      <th>175518</th>\n",
       "      <td>0</td>\n",
       "      <td>1964867345</td>\n",
       "      <td>Fri May 29 14:56:24 PDT 2009</td>\n",
       "      <td>NO_QUERY</td>\n",
       "      <td>OneCoolFish</td>\n",
       "      <td>@kiyoshimartinez - 05/31 marks the end of our ...</td>\n",
       "    </tr>\n",
       "    <tr>\n",
       "      <th>175519</th>\n",
       "      <td>0</td>\n",
       "      <td>1964867828</td>\n",
       "      <td>Fri May 29 14:56:27 PDT 2009</td>\n",
       "      <td>NO_QUERY</td>\n",
       "      <td>Chippewa29</td>\n",
       "      <td>@binhog737 Sorry about the weather, hopefully ...</td>\n",
       "    </tr>\n",
       "    <tr>\n",
       "      <th>175520</th>\n",
       "      <td>0</td>\n",
       "      <td>1964867856</td>\n",
       "      <td>Fri May 29 14:56:27 PDT 2009</td>\n",
       "      <td>NO_QUERY</td>\n",
       "      <td>VForIvan</td>\n",
       "      <td>Just got back from working out. I'm feeling pr...</td>\n",
       "    </tr>\n",
       "    <tr>\n",
       "      <th>175521</th>\n",
       "      <td>0</td>\n",
       "      <td>1964868310</td>\n",
       "      <td>Fri May 29 14:56:30 PDT 2009</td>\n",
       "      <td>NO_QUERY</td>\n",
       "      <td>amandak06</td>\n",
       "      <td>i'm sad...i'll miss you grandma angie.. you we...</td>\n",
       "    </tr>\n",
       "    <tr>\n",
       "      <th>175522</th>\n",
       "      <td>0</td>\n",
       "      <td>1964868446</td>\n",
       "      <td>NaN</td>\n",
       "      <td>NaN</td>\n",
       "      <td>NaN</td>\n",
       "      <td>NaN</td>\n",
       "    </tr>\n",
       "  </tbody>\n",
       "</table>\n",
       "</div>"
      ],
      "text/plain": [
       "        0  ...  @switchfoot http://twitpic.com/2y1zl - Awww, that's a bummer.  You shoulda got David Carr of Third Day to do it. ;D\n",
       "175518  0  ...  @kiyoshimartinez - 05/31 marks the end of our ...                                                                  \n",
       "175519  0  ...  @binhog737 Sorry about the weather, hopefully ...                                                                  \n",
       "175520  0  ...  Just got back from working out. I'm feeling pr...                                                                  \n",
       "175521  0  ...  i'm sad...i'll miss you grandma angie.. you we...                                                                  \n",
       "175522  0  ...                                                NaN                                                                  \n",
       "\n",
       "[5 rows x 6 columns]"
      ]
     },
     "execution_count": 8,
     "metadata": {
      "tags": []
     },
     "output_type": "execute_result"
    }
   ],
   "source": [
    "#data.tail()"
   ]
  },
  {
   "cell_type": "code",
   "execution_count": null,
   "metadata": {
    "colab": {
     "base_uri": "https://localhost:8080/",
     "height": 83
    },
    "id": "sHkQL1GGYqw3",
    "outputId": "fb3f027d-87e2-41ba-eb33-7a2fea7ca016"
   },
   "outputs": [
    {
     "data": {
      "text/html": [
       "<div>\n",
       "<style scoped>\n",
       "    .dataframe tbody tr th:only-of-type {\n",
       "        vertical-align: middle;\n",
       "    }\n",
       "\n",
       "    .dataframe tbody tr th {\n",
       "        vertical-align: top;\n",
       "    }\n",
       "\n",
       "    .dataframe thead th {\n",
       "        text-align: right;\n",
       "    }\n",
       "</style>\n",
       "<table border=\"1\" class=\"dataframe\">\n",
       "  <thead>\n",
       "    <tr style=\"text-align: right;\">\n",
       "      <th></th>\n",
       "      <th>0</th>\n",
       "      <th>1467810369</th>\n",
       "      <th>Mon Apr 06 22:19:45 PDT 2009</th>\n",
       "      <th>NO_QUERY</th>\n",
       "      <th>_TheSpecialOne_</th>\n",
       "      <th>@switchfoot http://twitpic.com/2y1zl - Awww, that's a bummer.  You shoulda got David Carr of Third Day to do it. ;D</th>\n",
       "    </tr>\n",
       "  </thead>\n",
       "  <tbody>\n",
       "  </tbody>\n",
       "</table>\n",
       "</div>"
      ],
      "text/plain": [
       "Empty DataFrame\n",
       "Columns: [0, 1467810369, Mon Apr 06 22:19:45 PDT 2009, NO_QUERY, _TheSpecialOne_, @switchfoot http://twitpic.com/2y1zl - Awww, that's a bummer.  You shoulda got David Carr of Third Day to do it. ;D]\n",
       "Index: []"
      ]
     },
     "execution_count": 13,
     "metadata": {
      "tags": []
     },
     "output_type": "execute_result"
    }
   ],
   "source": [
    "#data[data['0']==4]"
   ]
  },
  {
   "cell_type": "code",
   "execution_count": null,
   "metadata": {
    "colab": {
     "base_uri": "https://localhost:8080/",
     "height": 759
    },
    "id": "-jT9Qb0kYvxm",
    "outputId": "39d9dc51-9b69-4d93-f55b-71ee28ebc49f"
   },
   "outputs": [
    {
     "data": {
      "text/html": [
       "<div>\n",
       "<style scoped>\n",
       "    .dataframe tbody tr th:only-of-type {\n",
       "        vertical-align: middle;\n",
       "    }\n",
       "\n",
       "    .dataframe tbody tr th {\n",
       "        vertical-align: top;\n",
       "    }\n",
       "\n",
       "    .dataframe thead th {\n",
       "        text-align: right;\n",
       "    }\n",
       "</style>\n",
       "<table border=\"1\" class=\"dataframe\">\n",
       "  <thead>\n",
       "    <tr style=\"text-align: right;\">\n",
       "      <th></th>\n",
       "      <th>0</th>\n",
       "      <th>1467810369</th>\n",
       "      <th>Mon Apr 06 22:19:45 PDT 2009</th>\n",
       "      <th>NO_QUERY</th>\n",
       "      <th>_TheSpecialOne_</th>\n",
       "      <th>@switchfoot http://twitpic.com/2y1zl - Awww, that's a bummer.  You shoulda got David Carr of Third Day to do it. ;D</th>\n",
       "    </tr>\n",
       "  </thead>\n",
       "  <tbody>\n",
       "    <tr>\n",
       "      <th>0</th>\n",
       "      <td>0</td>\n",
       "      <td>1467810672</td>\n",
       "      <td>Mon Apr 06 22:19:49 PDT 2009</td>\n",
       "      <td>NO_QUERY</td>\n",
       "      <td>scotthamilton</td>\n",
       "      <td>is upset that he can't update his Facebook by ...</td>\n",
       "    </tr>\n",
       "    <tr>\n",
       "      <th>1</th>\n",
       "      <td>0</td>\n",
       "      <td>1467810917</td>\n",
       "      <td>Mon Apr 06 22:19:53 PDT 2009</td>\n",
       "      <td>NO_QUERY</td>\n",
       "      <td>mattycus</td>\n",
       "      <td>@Kenichan I dived many times for the ball. Man...</td>\n",
       "    </tr>\n",
       "    <tr>\n",
       "      <th>2</th>\n",
       "      <td>0</td>\n",
       "      <td>1467811184</td>\n",
       "      <td>Mon Apr 06 22:19:57 PDT 2009</td>\n",
       "      <td>NO_QUERY</td>\n",
       "      <td>ElleCTF</td>\n",
       "      <td>my whole body feels itchy and like its on fire</td>\n",
       "    </tr>\n",
       "    <tr>\n",
       "      <th>3</th>\n",
       "      <td>0</td>\n",
       "      <td>1467811193</td>\n",
       "      <td>Mon Apr 06 22:19:57 PDT 2009</td>\n",
       "      <td>NO_QUERY</td>\n",
       "      <td>Karoli</td>\n",
       "      <td>@nationwideclass no, it's not behaving at all....</td>\n",
       "    </tr>\n",
       "    <tr>\n",
       "      <th>4</th>\n",
       "      <td>0</td>\n",
       "      <td>1467811372</td>\n",
       "      <td>Mon Apr 06 22:20:00 PDT 2009</td>\n",
       "      <td>NO_QUERY</td>\n",
       "      <td>joy_wolf</td>\n",
       "      <td>@Kwesidei not the whole crew</td>\n",
       "    </tr>\n",
       "    <tr>\n",
       "      <th>...</th>\n",
       "      <td>...</td>\n",
       "      <td>...</td>\n",
       "      <td>...</td>\n",
       "      <td>...</td>\n",
       "      <td>...</td>\n",
       "      <td>...</td>\n",
       "    </tr>\n",
       "    <tr>\n",
       "      <th>175518</th>\n",
       "      <td>0</td>\n",
       "      <td>1964867345</td>\n",
       "      <td>Fri May 29 14:56:24 PDT 2009</td>\n",
       "      <td>NO_QUERY</td>\n",
       "      <td>OneCoolFish</td>\n",
       "      <td>@kiyoshimartinez - 05/31 marks the end of our ...</td>\n",
       "    </tr>\n",
       "    <tr>\n",
       "      <th>175519</th>\n",
       "      <td>0</td>\n",
       "      <td>1964867828</td>\n",
       "      <td>Fri May 29 14:56:27 PDT 2009</td>\n",
       "      <td>NO_QUERY</td>\n",
       "      <td>Chippewa29</td>\n",
       "      <td>@binhog737 Sorry about the weather, hopefully ...</td>\n",
       "    </tr>\n",
       "    <tr>\n",
       "      <th>175520</th>\n",
       "      <td>0</td>\n",
       "      <td>1964867856</td>\n",
       "      <td>Fri May 29 14:56:27 PDT 2009</td>\n",
       "      <td>NO_QUERY</td>\n",
       "      <td>VForIvan</td>\n",
       "      <td>Just got back from working out. I'm feeling pr...</td>\n",
       "    </tr>\n",
       "    <tr>\n",
       "      <th>175521</th>\n",
       "      <td>0</td>\n",
       "      <td>1964868310</td>\n",
       "      <td>Fri May 29 14:56:30 PDT 2009</td>\n",
       "      <td>NO_QUERY</td>\n",
       "      <td>amandak06</td>\n",
       "      <td>i'm sad...i'll miss you grandma angie.. you we...</td>\n",
       "    </tr>\n",
       "    <tr>\n",
       "      <th>175522</th>\n",
       "      <td>0</td>\n",
       "      <td>1964868446</td>\n",
       "      <td>NaN</td>\n",
       "      <td>NaN</td>\n",
       "      <td>NaN</td>\n",
       "      <td>NaN</td>\n",
       "    </tr>\n",
       "  </tbody>\n",
       "</table>\n",
       "<p>175523 rows × 6 columns</p>\n",
       "</div>"
      ],
      "text/plain": [
       "        0  ...  @switchfoot http://twitpic.com/2y1zl - Awww, that's a bummer.  You shoulda got David Carr of Third Day to do it. ;D\n",
       "0       0  ...  is upset that he can't update his Facebook by ...                                                                  \n",
       "1       0  ...  @Kenichan I dived many times for the ball. Man...                                                                  \n",
       "2       0  ...    my whole body feels itchy and like its on fire                                                                   \n",
       "3       0  ...  @nationwideclass no, it's not behaving at all....                                                                  \n",
       "4       0  ...                      @Kwesidei not the whole crew                                                                   \n",
       "...    ..  ...                                                ...                                                                  \n",
       "175518  0  ...  @kiyoshimartinez - 05/31 marks the end of our ...                                                                  \n",
       "175519  0  ...  @binhog737 Sorry about the weather, hopefully ...                                                                  \n",
       "175520  0  ...  Just got back from working out. I'm feeling pr...                                                                  \n",
       "175521  0  ...  i'm sad...i'll miss you grandma angie.. you we...                                                                  \n",
       "175522  0  ...                                                NaN                                                                  \n",
       "\n",
       "[175523 rows x 6 columns]"
      ]
     },
     "execution_count": 14,
     "metadata": {
      "tags": []
     },
     "output_type": "execute_result"
    }
   ],
   "source": [
    "#data"
   ]
  },
  {
   "cell_type": "code",
   "execution_count": null,
   "metadata": {
    "id": "HbXw1aQqY84b"
   },
   "outputs": [],
   "source": [
    "data=[]"
   ]
  },
  {
   "cell_type": "code",
   "execution_count": 9,
   "metadata": {
    "id": "RUIf3ohGgvF3"
   },
   "outputs": [],
   "source": [
    "data = pd.read_csv('/content/twitter-headless-pos-neg-tweet.txt', sep='\\t', quoting=csv.QUOTE_NONE, engine='python', header=None, names=['pos','neg','tweet'])"
   ]
  },
  {
   "cell_type": "code",
   "execution_count": 7,
   "metadata": {
    "id": "bFzIHytBg0NZ"
   },
   "outputs": [],
   "source": [
    "import csv"
   ]
  },
  {
   "cell_type": "code",
   "execution_count": 10,
   "metadata": {
    "colab": {
     "base_uri": "https://localhost:8080/",
     "height": 204
    },
    "id": "1eM3uPqYzjET",
    "outputId": "2c2feeb8-1513-4ad4-945e-32a4f1916884"
   },
   "outputs": [
    {
     "data": {
      "text/html": [
       "<div>\n",
       "<style scoped>\n",
       "    .dataframe tbody tr th:only-of-type {\n",
       "        vertical-align: middle;\n",
       "    }\n",
       "\n",
       "    .dataframe tbody tr th {\n",
       "        vertical-align: top;\n",
       "    }\n",
       "\n",
       "    .dataframe thead th {\n",
       "        text-align: right;\n",
       "    }\n",
       "</style>\n",
       "<table border=\"1\" class=\"dataframe\">\n",
       "  <thead>\n",
       "    <tr style=\"text-align: right;\">\n",
       "      <th></th>\n",
       "      <th>pos</th>\n",
       "      <th>neg</th>\n",
       "      <th>tweet</th>\n",
       "    </tr>\n",
       "  </thead>\n",
       "  <tbody>\n",
       "    <tr>\n",
       "      <th>0</th>\n",
       "      <td>3</td>\n",
       "      <td>2</td>\n",
       "      <td>?RT @justinbiebcr: The bigger the better....if...</td>\n",
       "    </tr>\n",
       "    <tr>\n",
       "      <th>1</th>\n",
       "      <td>3</td>\n",
       "      <td>1</td>\n",
       "      <td>Listening to the \"New Age\" station on @Slacker...</td>\n",
       "    </tr>\n",
       "    <tr>\n",
       "      <th>2</th>\n",
       "      <td>1</td>\n",
       "      <td>1</td>\n",
       "      <td>I favorited a YouTube video -- Drake and Josh ...</td>\n",
       "    </tr>\n",
       "    <tr>\n",
       "      <th>3</th>\n",
       "      <td>4</td>\n",
       "      <td>2</td>\n",
       "      <td>i didnt mean knee high I ment in lengt it goes...</td>\n",
       "    </tr>\n",
       "    <tr>\n",
       "      <th>4</th>\n",
       "      <td>2</td>\n",
       "      <td>1</td>\n",
       "      <td>I wana see the vid Kyan</td>\n",
       "    </tr>\n",
       "  </tbody>\n",
       "</table>\n",
       "</div>"
      ],
      "text/plain": [
       "   pos  neg                                              tweet\n",
       "0    3    2  ?RT @justinbiebcr: The bigger the better....if...\n",
       "1    3    1  Listening to the \"New Age\" station on @Slacker...\n",
       "2    1    1  I favorited a YouTube video -- Drake and Josh ...\n",
       "3    4    2  i didnt mean knee high I ment in lengt it goes...\n",
       "4    2    1                            I wana see the vid Kyan"
      ]
     },
     "execution_count": 10,
     "metadata": {
      "tags": []
     },
     "output_type": "execute_result"
    }
   ],
   "source": [
    "data.head()"
   ]
  },
  {
   "cell_type": "code",
   "execution_count": 11,
   "metadata": {
    "colab": {
     "base_uri": "https://localhost:8080/",
     "height": 419
    },
    "id": "PPDG1imFzrEc",
    "outputId": "3e6cf503-2885-456f-b1da-ed9f0539e3c7"
   },
   "outputs": [
    {
     "data": {
      "text/html": [
       "<div>\n",
       "<style scoped>\n",
       "    .dataframe tbody tr th:only-of-type {\n",
       "        vertical-align: middle;\n",
       "    }\n",
       "\n",
       "    .dataframe tbody tr th {\n",
       "        vertical-align: top;\n",
       "    }\n",
       "\n",
       "    .dataframe thead th {\n",
       "        text-align: right;\n",
       "    }\n",
       "</style>\n",
       "<table border=\"1\" class=\"dataframe\">\n",
       "  <thead>\n",
       "    <tr style=\"text-align: right;\">\n",
       "      <th></th>\n",
       "      <th>pos</th>\n",
       "      <th>neg</th>\n",
       "      <th>tweet</th>\n",
       "    </tr>\n",
       "  </thead>\n",
       "  <tbody>\n",
       "    <tr>\n",
       "      <th>0</th>\n",
       "      <td>3</td>\n",
       "      <td>2</td>\n",
       "      <td>?RT @justinbiebcr: The bigger the better....if...</td>\n",
       "    </tr>\n",
       "    <tr>\n",
       "      <th>1</th>\n",
       "      <td>3</td>\n",
       "      <td>1</td>\n",
       "      <td>Listening to the \"New Age\" station on @Slacker...</td>\n",
       "    </tr>\n",
       "    <tr>\n",
       "      <th>2</th>\n",
       "      <td>1</td>\n",
       "      <td>1</td>\n",
       "      <td>I favorited a YouTube video -- Drake and Josh ...</td>\n",
       "    </tr>\n",
       "    <tr>\n",
       "      <th>3</th>\n",
       "      <td>4</td>\n",
       "      <td>2</td>\n",
       "      <td>i didnt mean knee high I ment in lengt it goes...</td>\n",
       "    </tr>\n",
       "    <tr>\n",
       "      <th>4</th>\n",
       "      <td>2</td>\n",
       "      <td>1</td>\n",
       "      <td>I wana see the vid Kyan</td>\n",
       "    </tr>\n",
       "    <tr>\n",
       "      <th>...</th>\n",
       "      <td>...</td>\n",
       "      <td>...</td>\n",
       "      <td>...</td>\n",
       "    </tr>\n",
       "    <tr>\n",
       "      <th>4237</th>\n",
       "      <td>1</td>\n",
       "      <td>1</td>\n",
       "      <td>So far, i'm seeing the opposite of what you're...</td>\n",
       "    </tr>\n",
       "    <tr>\n",
       "      <th>4238</th>\n",
       "      <td>1</td>\n",
       "      <td>1</td>\n",
       "      <td>RT @Nescreation I'm Yours w/ hearts Ladies Cam...</td>\n",
       "    </tr>\n",
       "    <tr>\n",
       "      <th>4239</th>\n",
       "      <td>3</td>\n",
       "      <td>1</td>\n",
       "      <td>RT @JoseCarol: If you fall, GET UP!, if you're...</td>\n",
       "    </tr>\n",
       "    <tr>\n",
       "      <th>4240</th>\n",
       "      <td>1</td>\n",
       "      <td>2</td>\n",
       "      <td>@MakikiGirl I'm giving my 2 Japanese Chins a b...</td>\n",
       "    </tr>\n",
       "    <tr>\n",
       "      <th>4241</th>\n",
       "      <td>1</td>\n",
       "      <td>1</td>\n",
       "      <td>T-Mobile USA Says They Ditched Yahoo For Googl...</td>\n",
       "    </tr>\n",
       "  </tbody>\n",
       "</table>\n",
       "<p>4242 rows × 3 columns</p>\n",
       "</div>"
      ],
      "text/plain": [
       "      pos  neg                                              tweet\n",
       "0       3    2  ?RT @justinbiebcr: The bigger the better....if...\n",
       "1       3    1  Listening to the \"New Age\" station on @Slacker...\n",
       "2       1    1  I favorited a YouTube video -- Drake and Josh ...\n",
       "3       4    2  i didnt mean knee high I ment in lengt it goes...\n",
       "4       2    1                            I wana see the vid Kyan\n",
       "...   ...  ...                                                ...\n",
       "4237    1    1  So far, i'm seeing the opposite of what you're...\n",
       "4238    1    1  RT @Nescreation I'm Yours w/ hearts Ladies Cam...\n",
       "4239    3    1  RT @JoseCarol: If you fall, GET UP!, if you're...\n",
       "4240    1    2  @MakikiGirl I'm giving my 2 Japanese Chins a b...\n",
       "4241    1    1  T-Mobile USA Says They Ditched Yahoo For Googl...\n",
       "\n",
       "[4242 rows x 3 columns]"
      ]
     },
     "execution_count": 11,
     "metadata": {
      "tags": []
     },
     "output_type": "execute_result"
    }
   ],
   "source": [
    "data"
   ]
  },
  {
   "cell_type": "code",
   "execution_count": 12,
   "metadata": {
    "id": "ogSKvl21zryo"
   },
   "outputs": [],
   "source": [
    "data['sentiment'] = data['pos'].astype(int) - data['neg'].astype(int)"
   ]
  },
  {
   "cell_type": "code",
   "execution_count": 14,
   "metadata": {
    "colab": {
     "base_uri": "https://localhost:8080/",
     "height": 204
    },
    "id": "T-b_ubdtz5Eq",
    "outputId": "0cd972b7-a651-4935-cb02-846e9ba81879"
   },
   "outputs": [
    {
     "data": {
      "text/html": [
       "<div>\n",
       "<style scoped>\n",
       "    .dataframe tbody tr th:only-of-type {\n",
       "        vertical-align: middle;\n",
       "    }\n",
       "\n",
       "    .dataframe tbody tr th {\n",
       "        vertical-align: top;\n",
       "    }\n",
       "\n",
       "    .dataframe thead th {\n",
       "        text-align: right;\n",
       "    }\n",
       "</style>\n",
       "<table border=\"1\" class=\"dataframe\">\n",
       "  <thead>\n",
       "    <tr style=\"text-align: right;\">\n",
       "      <th></th>\n",
       "      <th>pos</th>\n",
       "      <th>neg</th>\n",
       "      <th>tweet</th>\n",
       "      <th>sentiment</th>\n",
       "    </tr>\n",
       "  </thead>\n",
       "  <tbody>\n",
       "    <tr>\n",
       "      <th>1650</th>\n",
       "      <td>3</td>\n",
       "      <td>1</td>\n",
       "      <td>today, i want to study hard because tommorow t...</td>\n",
       "      <td>2</td>\n",
       "    </tr>\n",
       "    <tr>\n",
       "      <th>2356</th>\n",
       "      <td>1</td>\n",
       "      <td>1</td>\n",
       "      <td>Listening to @mikeposner One Foot Out The Door...</td>\n",
       "      <td>0</td>\n",
       "    </tr>\n",
       "    <tr>\n",
       "      <th>3000</th>\n",
       "      <td>1</td>\n",
       "      <td>1</td>\n",
       "      <td>Various Artists - Almost Alice: A great idea s...</td>\n",
       "      <td>0</td>\n",
       "    </tr>\n",
       "    <tr>\n",
       "      <th>861</th>\n",
       "      <td>1</td>\n",
       "      <td>1</td>\n",
       "      <td>Update: Brief Tampa interview with Allison and...</td>\n",
       "      <td>0</td>\n",
       "    </tr>\n",
       "    <tr>\n",
       "      <th>317</th>\n",
       "      <td>1</td>\n",
       "      <td>1</td>\n",
       "      <td>@shannonelizab http://twitpic.com/12m5z6 - hur...</td>\n",
       "      <td>0</td>\n",
       "    </tr>\n",
       "  </tbody>\n",
       "</table>\n",
       "</div>"
      ],
      "text/plain": [
       "      pos  neg                                              tweet  sentiment\n",
       "1650    3    1  today, i want to study hard because tommorow t...          2\n",
       "2356    1    1  Listening to @mikeposner One Foot Out The Door...          0\n",
       "3000    1    1  Various Artists - Almost Alice: A great idea s...          0\n",
       "861     1    1  Update: Brief Tampa interview with Allison and...          0\n",
       "317     1    1  @shannonelizab http://twitpic.com/12m5z6 - hur...          0"
      ]
     },
     "execution_count": 14,
     "metadata": {
      "tags": []
     },
     "output_type": "execute_result"
    }
   ],
   "source": [
    "data.sample(5)"
   ]
  },
  {
   "cell_type": "code",
   "execution_count": 15,
   "metadata": {
    "id": "9iG7tkd6z6U2"
   },
   "outputs": [],
   "source": [
    "def flatten_sentiment(n):\n",
    "  if n:\n",
    "    if n>0:\n",
    "      return 1\n",
    "    else:\n",
    "      return -1\n",
    "  else:\n",
    "    return 0"
   ]
  },
  {
   "cell_type": "code",
   "execution_count": 16,
   "metadata": {
    "colab": {
     "base_uri": "https://localhost:8080/"
    },
    "id": "CmWCSv110Uhd",
    "outputId": "1c8a21d5-a448-4db4-c5f3-6fde599dcb47"
   },
   "outputs": [
    {
     "data": {
      "text/plain": [
       "1"
      ]
     },
     "execution_count": 16,
     "metadata": {
      "tags": []
     },
     "output_type": "execute_result"
    }
   ],
   "source": [
    "flatten_sentiment(2)"
   ]
  },
  {
   "cell_type": "code",
   "execution_count": 17,
   "metadata": {
    "colab": {
     "base_uri": "https://localhost:8080/"
    },
    "id": "NQNxfQuo0YFU",
    "outputId": "5271e599-a1ad-4281-9c82-9e84fd56affb"
   },
   "outputs": [
    {
     "data": {
      "text/plain": [
       "0"
      ]
     },
     "execution_count": 17,
     "metadata": {
      "tags": []
     },
     "output_type": "execute_result"
    }
   ],
   "source": [
    "flatten_sentiment(0)"
   ]
  },
  {
   "cell_type": "code",
   "execution_count": 18,
   "metadata": {
    "colab": {
     "base_uri": "https://localhost:8080/"
    },
    "id": "ALVitNxM0Y59",
    "outputId": "3f2d87cb-0be5-4e1d-9534-3c00e0252c1e"
   },
   "outputs": [
    {
     "data": {
      "text/plain": [
       "-1"
      ]
     },
     "execution_count": 18,
     "metadata": {
      "tags": []
     },
     "output_type": "execute_result"
    }
   ],
   "source": [
    "flatten_sentiment(-3)"
   ]
  },
  {
   "cell_type": "code",
   "execution_count": 19,
   "metadata": {
    "id": "OITKMz4g0Z9t"
   },
   "outputs": [],
   "source": [
    "data['sent'] = data['sentiment'].map(flatten_sentiment)"
   ]
  },
  {
   "cell_type": "code",
   "execution_count": 20,
   "metadata": {
    "colab": {
     "base_uri": "https://localhost:8080/",
     "height": 359
    },
    "id": "Xr9TaGzJ0lH1",
    "outputId": "3bb86c20-1346-4b06-98af-1746c1b308c2"
   },
   "outputs": [
    {
     "data": {
      "text/html": [
       "<div>\n",
       "<style scoped>\n",
       "    .dataframe tbody tr th:only-of-type {\n",
       "        vertical-align: middle;\n",
       "    }\n",
       "\n",
       "    .dataframe tbody tr th {\n",
       "        vertical-align: top;\n",
       "    }\n",
       "\n",
       "    .dataframe thead th {\n",
       "        text-align: right;\n",
       "    }\n",
       "</style>\n",
       "<table border=\"1\" class=\"dataframe\">\n",
       "  <thead>\n",
       "    <tr style=\"text-align: right;\">\n",
       "      <th></th>\n",
       "      <th>pos</th>\n",
       "      <th>neg</th>\n",
       "      <th>tweet</th>\n",
       "      <th>sentiment</th>\n",
       "      <th>sent</th>\n",
       "    </tr>\n",
       "  </thead>\n",
       "  <tbody>\n",
       "    <tr>\n",
       "      <th>3526</th>\n",
       "      <td>1</td>\n",
       "      <td>1</td>\n",
       "      <td>RT @mousavifacebook: http://fb.me/631Zf3I</td>\n",
       "      <td>0</td>\n",
       "      <td>0</td>\n",
       "    </tr>\n",
       "    <tr>\n",
       "      <th>384</th>\n",
       "      <td>1</td>\n",
       "      <td>3</td>\n",
       "      <td>Tbh I'm rarther pissed off, just wana get out ...</td>\n",
       "      <td>-2</td>\n",
       "      <td>-1</td>\n",
       "    </tr>\n",
       "    <tr>\n",
       "      <th>1999</th>\n",
       "      <td>1</td>\n",
       "      <td>1</td>\n",
       "      <td>RT @dealiodeals: Billion Dollar Babes Sale- Sa...</td>\n",
       "      <td>0</td>\n",
       "      <td>0</td>\n",
       "    </tr>\n",
       "    <tr>\n",
       "      <th>2422</th>\n",
       "      <td>1</td>\n",
       "      <td>4</td>\n",
       "      <td>@simplyme4you so? you always make tweets about...</td>\n",
       "      <td>-3</td>\n",
       "      <td>-1</td>\n",
       "    </tr>\n",
       "    <tr>\n",
       "      <th>355</th>\n",
       "      <td>2</td>\n",
       "      <td>3</td>\n",
       "      <td>bad weather on holiday X( X( have nothing but ...</td>\n",
       "      <td>-1</td>\n",
       "      <td>-1</td>\n",
       "    </tr>\n",
       "    <tr>\n",
       "      <th>2200</th>\n",
       "      <td>2</td>\n",
       "      <td>1</td>\n",
       "      <td>RT @StarCreations: RT @dutchfeltart @GlassRive...</td>\n",
       "      <td>1</td>\n",
       "      <td>1</td>\n",
       "    </tr>\n",
       "    <tr>\n",
       "      <th>2518</th>\n",
       "      <td>2</td>\n",
       "      <td>1</td>\n",
       "      <td>taking a break from crazy packing to watch 2012.</td>\n",
       "      <td>1</td>\n",
       "      <td>1</td>\n",
       "    </tr>\n",
       "    <tr>\n",
       "      <th>296</th>\n",
       "      <td>2</td>\n",
       "      <td>1</td>\n",
       "      <td>RT @AbonThoughts: Fist pumping my small Asian ...</td>\n",
       "      <td>1</td>\n",
       "      <td>1</td>\n",
       "    </tr>\n",
       "    <tr>\n",
       "      <th>1591</th>\n",
       "      <td>4</td>\n",
       "      <td>3</td>\n",
       "      <td>@nathanielr It's not about GRIEF, but about ho...</td>\n",
       "      <td>1</td>\n",
       "      <td>1</td>\n",
       "    </tr>\n",
       "    <tr>\n",
       "      <th>4101</th>\n",
       "      <td>2</td>\n",
       "      <td>1</td>\n",
       "      <td>Sent me to the camp. I overcame all da courses...</td>\n",
       "      <td>1</td>\n",
       "      <td>1</td>\n",
       "    </tr>\n",
       "  </tbody>\n",
       "</table>\n",
       "</div>"
      ],
      "text/plain": [
       "      pos  neg  ... sentiment  sent\n",
       "3526    1    1  ...         0     0\n",
       "384     1    3  ...        -2    -1\n",
       "1999    1    1  ...         0     0\n",
       "2422    1    4  ...        -3    -1\n",
       "355     2    3  ...        -1    -1\n",
       "2200    2    1  ...         1     1\n",
       "2518    2    1  ...         1     1\n",
       "296     2    1  ...         1     1\n",
       "1591    4    3  ...         1     1\n",
       "4101    2    1  ...         1     1\n",
       "\n",
       "[10 rows x 5 columns]"
      ]
     },
     "execution_count": 20,
     "metadata": {
      "tags": []
     },
     "output_type": "execute_result"
    }
   ],
   "source": [
    "data.sample(10)"
   ]
  },
  {
   "cell_type": "code",
   "execution_count": 21,
   "metadata": {
    "id": "1Z_HGmPm0mmP"
   },
   "outputs": [],
   "source": [
    "data_ = data[['tweet','sent']]"
   ]
  },
  {
   "cell_type": "code",
   "execution_count": 22,
   "metadata": {
    "colab": {
     "base_uri": "https://localhost:8080/",
     "height": 359
    },
    "id": "Gq-b4gwL0vTB",
    "outputId": "44f22d5d-239d-4b20-eb03-ee6903ea6620"
   },
   "outputs": [
    {
     "data": {
      "text/html": [
       "<div>\n",
       "<style scoped>\n",
       "    .dataframe tbody tr th:only-of-type {\n",
       "        vertical-align: middle;\n",
       "    }\n",
       "\n",
       "    .dataframe tbody tr th {\n",
       "        vertical-align: top;\n",
       "    }\n",
       "\n",
       "    .dataframe thead th {\n",
       "        text-align: right;\n",
       "    }\n",
       "</style>\n",
       "<table border=\"1\" class=\"dataframe\">\n",
       "  <thead>\n",
       "    <tr style=\"text-align: right;\">\n",
       "      <th></th>\n",
       "      <th>tweet</th>\n",
       "      <th>sent</th>\n",
       "    </tr>\n",
       "  </thead>\n",
       "  <tbody>\n",
       "    <tr>\n",
       "      <th>881</th>\n",
       "      <td>RT @marlonlwayans: #lilduvalsarmsso short he d...</td>\n",
       "      <td>-1</td>\n",
       "    </tr>\n",
       "    <tr>\n",
       "      <th>4158</th>\n",
       "      <td>biggie biggie biggie cant you see.. i love tha...</td>\n",
       "      <td>1</td>\n",
       "    </tr>\n",
       "    <tr>\n",
       "      <th>2944</th>\n",
       "      <td>BE HER THEN!! RT @MagnificentVee: @FARFROMbasi...</td>\n",
       "      <td>1</td>\n",
       "    </tr>\n",
       "    <tr>\n",
       "      <th>3703</th>\n",
       "      <td>Eu acabei de comprar um Water Lily Lamp no Sta...</td>\n",
       "      <td>0</td>\n",
       "    </tr>\n",
       "    <tr>\n",
       "      <th>3860</th>\n",
       "      <td>I love @alfredapp..seriously..check this out.</td>\n",
       "      <td>1</td>\n",
       "    </tr>\n",
       "    <tr>\n",
       "      <th>1693</th>\n",
       "      <td>@mwhi I'd pay handsomely for an autographed copy.</td>\n",
       "      <td>1</td>\n",
       "    </tr>\n",
       "    <tr>\n",
       "      <th>757</th>\n",
       "      <td>White Knight Chronicles: Possibly one of the w...</td>\n",
       "      <td>-1</td>\n",
       "    </tr>\n",
       "    <tr>\n",
       "      <th>1262</th>\n",
       "      <td>Why cant I ever wake up n say \"good morning ev...</td>\n",
       "      <td>-1</td>\n",
       "    </tr>\n",
       "    <tr>\n",
       "      <th>2149</th>\n",
       "      <td>@docbrite Wow! I never noticed that EITHER! Wo...</td>\n",
       "      <td>-1</td>\n",
       "    </tr>\n",
       "    <tr>\n",
       "      <th>2624</th>\n",
       "      <td>Just because I like girls doesn't mean I like ...</td>\n",
       "      <td>-1</td>\n",
       "    </tr>\n",
       "  </tbody>\n",
       "</table>\n",
       "</div>"
      ],
      "text/plain": [
       "                                                  tweet  sent\n",
       "881   RT @marlonlwayans: #lilduvalsarmsso short he d...    -1\n",
       "4158  biggie biggie biggie cant you see.. i love tha...     1\n",
       "2944  BE HER THEN!! RT @MagnificentVee: @FARFROMbasi...     1\n",
       "3703  Eu acabei de comprar um Water Lily Lamp no Sta...     0\n",
       "3860      I love @alfredapp..seriously..check this out.     1\n",
       "1693  @mwhi I'd pay handsomely for an autographed copy.     1\n",
       "757   White Knight Chronicles: Possibly one of the w...    -1\n",
       "1262  Why cant I ever wake up n say \"good morning ev...    -1\n",
       "2149  @docbrite Wow! I never noticed that EITHER! Wo...    -1\n",
       "2624  Just because I like girls doesn't mean I like ...    -1"
      ]
     },
     "execution_count": 22,
     "metadata": {
      "tags": []
     },
     "output_type": "execute_result"
    }
   ],
   "source": [
    "data_.sample(10)"
   ]
  },
  {
   "cell_type": "code",
   "execution_count": 24,
   "metadata": {
    "id": "758WaQrl04e4"
   },
   "outputs": [],
   "source": [
    "data_.to_csv('tweet_with_sentiment.csv', index=False)"
   ]
  },
  {
   "cell_type": "code",
   "execution_count": null,
   "metadata": {
    "id": "0Vpen6Po1Le7"
   },
   "outputs": [],
   "source": []
  }
 ],
 "metadata": {
  "colab": {
   "collapsed_sections": [],
   "name": "ZodiacSentiment.ipynb",
   "provenance": []
  },
  "kernelspec": {
   "display_name": "Python 3",
   "language": "python",
   "name": "python3"
  },
  "language_info": {
   "codemirror_mode": {
    "name": "ipython",
    "version": 3
   },
   "file_extension": ".py",
   "mimetype": "text/x-python",
   "name": "python",
   "nbconvert_exporter": "python",
   "pygments_lexer": "ipython3",
   "version": "3.7.6"
  }
 },
 "nbformat": 4,
 "nbformat_minor": 1
}
