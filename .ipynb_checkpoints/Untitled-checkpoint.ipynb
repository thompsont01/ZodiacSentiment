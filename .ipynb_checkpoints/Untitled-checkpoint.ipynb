{
 "cells": [
  {
   "cell_type": "code",
   "execution_count": 1,
   "metadata": {},
   "outputs": [],
   "source": [
    "from vaderSentiment.vaderSentiment import SentimentIntensityAnalyzer\n",
    "import pandas as pd\n",
    "#import numpy as np\n",
    "#import matplotlib.pyplot as plt\n",
    "from clean_tweet import clean_tweet\n",
    "import json"
   ]
  },
  {
   "cell_type": "code",
   "execution_count": 2,
   "metadata": {},
   "outputs": [],
   "source": [
    "#VADER sentiment analyzer is a pre-trained sentiment analyzer designed for social media\n",
    "#analyser = SentimentIntensityAnalyzer()"
   ]
  },
  {
   "cell_type": "code",
   "execution_count": 5,
   "metadata": {},
   "outputs": [],
   "source": [
    "with open('gemini.json') as f:\n",
    "    gemini = json.load(f)"
   ]
  },
  {
   "cell_type": "code",
   "execution_count": 7,
   "metadata": {},
   "outputs": [
    {
     "data": {
      "text/plain": [
       "dict_keys(['statuses', 'search_metadata'])"
      ]
     },
     "execution_count": 7,
     "metadata": {},
     "output_type": "execute_result"
    }
   ],
   "source": [
    "gemini.keys()"
   ]
  },
  {
   "cell_type": "code",
   "execution_count": 8,
   "metadata": {},
   "outputs": [],
   "source": [
    "gemini = gemini['statuses']"
   ]
  },
  {
   "cell_type": "code",
   "execution_count": 11,
   "metadata": {},
   "outputs": [
    {
     "data": {
      "text/plain": [
       "{'created_at': 'Sat Nov 07 20:57:20 +0000 2020',\n",
       " 'id': 1325180559295827968,\n",
       " 'id_str': '1325180559295827968',\n",
       " 'text': 'RT @meldoestarot: Gemini ♊ Libra ♎ Aquarius ♒ \\n\\nall I see for your next few months are growth, blessings and happiness. honestly, such good…',\n",
       " 'truncated': False,\n",
       " 'entities': {'hashtags': [],\n",
       "  'symbols': [],\n",
       "  'user_mentions': [{'screen_name': 'meldoestarot',\n",
       "    'name': 'Mel',\n",
       "    'id': 1263570761136168969,\n",
       "    'id_str': '1263570761136168969',\n",
       "    'indices': [3, 16]}],\n",
       "  'urls': []},\n",
       " 'metadata': {'iso_language_code': 'en', 'result_type': 'recent'},\n",
       " 'source': '<a href=\"http://twitter.com/download/android\" rel=\"nofollow\">Twitter for Android</a>',\n",
       " 'in_reply_to_status_id': None,\n",
       " 'in_reply_to_status_id_str': None,\n",
       " 'in_reply_to_user_id': None,\n",
       " 'in_reply_to_user_id_str': None,\n",
       " 'in_reply_to_screen_name': None,\n",
       " 'user': {'id': 1251685186896527362,\n",
       "  'id_str': '1251685186896527362',\n",
       "  'name': 'R.D',\n",
       "  'screen_name': '_spicyyyyyy',\n",
       "  'location': 'Everywhere',\n",
       "  'description': 'Photographer & Chef.',\n",
       "  'url': None,\n",
       "  'entities': {'description': {'urls': []}},\n",
       "  'protected': False,\n",
       "  'followers_count': 5,\n",
       "  'friends_count': 18,\n",
       "  'listed_count': 0,\n",
       "  'created_at': 'Sun Apr 19 01:33:16 +0000 2020',\n",
       "  'favourites_count': 55,\n",
       "  'utc_offset': None,\n",
       "  'time_zone': None,\n",
       "  'geo_enabled': False,\n",
       "  'verified': False,\n",
       "  'statuses_count': 875,\n",
       "  'lang': None,\n",
       "  'contributors_enabled': False,\n",
       "  'is_translator': False,\n",
       "  'is_translation_enabled': False,\n",
       "  'profile_background_color': 'F5F8FA',\n",
       "  'profile_background_image_url': None,\n",
       "  'profile_background_image_url_https': None,\n",
       "  'profile_background_tile': False,\n",
       "  'profile_image_url': 'http://pbs.twimg.com/profile_images/1323864255045816321/r5t3QTJC_normal.jpg',\n",
       "  'profile_image_url_https': 'https://pbs.twimg.com/profile_images/1323864255045816321/r5t3QTJC_normal.jpg',\n",
       "  'profile_banner_url': 'https://pbs.twimg.com/profile_banners/1251685186896527362/1603151713',\n",
       "  'profile_link_color': '1DA1F2',\n",
       "  'profile_sidebar_border_color': 'C0DEED',\n",
       "  'profile_sidebar_fill_color': 'DDEEF6',\n",
       "  'profile_text_color': '333333',\n",
       "  'profile_use_background_image': True,\n",
       "  'has_extended_profile': True,\n",
       "  'default_profile': True,\n",
       "  'default_profile_image': False,\n",
       "  'following': False,\n",
       "  'follow_request_sent': False,\n",
       "  'notifications': False,\n",
       "  'translator_type': 'none'},\n",
       " 'geo': None,\n",
       " 'coordinates': None,\n",
       " 'place': None,\n",
       " 'contributors': None,\n",
       " 'retweeted_status': {'created_at': 'Sat Nov 07 14:33:12 +0000 2020',\n",
       "  'id': 1325083890407649280,\n",
       "  'id_str': '1325083890407649280',\n",
       "  'text': 'Gemini ♊ Libra ♎ Aquarius ♒ \\n\\nall I see for your next few months are growth, blessings and happiness. honestly, suc… https://t.co/MkaOgOXBow',\n",
       "  'truncated': True,\n",
       "  'entities': {'hashtags': [],\n",
       "   'symbols': [],\n",
       "   'user_mentions': [],\n",
       "   'urls': [{'url': 'https://t.co/MkaOgOXBow',\n",
       "     'expanded_url': 'https://twitter.com/i/web/status/1325083890407649280',\n",
       "     'display_url': 'twitter.com/i/web/status/1…',\n",
       "     'indices': [117, 140]}]},\n",
       "  'metadata': {'iso_language_code': 'en', 'result_type': 'recent'},\n",
       "  'source': '<a href=\"http://twitter.com/download/android\" rel=\"nofollow\">Twitter for Android</a>',\n",
       "  'in_reply_to_status_id': None,\n",
       "  'in_reply_to_status_id_str': None,\n",
       "  'in_reply_to_user_id': None,\n",
       "  'in_reply_to_user_id_str': None,\n",
       "  'in_reply_to_screen_name': None,\n",
       "  'user': {'id': 1263570761136168969,\n",
       "   'id_str': '1263570761136168969',\n",
       "   'name': 'Mel',\n",
       "   'screen_name': 'meldoestarot',\n",
       "   'location': '',\n",
       "   'description': 'Astrologer, Tarot and Oracle reader. Healing. Happy. UK💞 Get in touch!',\n",
       "   'url': 'https://t.co/e5upM14TkY',\n",
       "   'entities': {'url': {'urls': [{'url': 'https://t.co/e5upM14TkY',\n",
       "       'expanded_url': 'http://depop.com/melaniiewade',\n",
       "       'display_url': 'depop.com/melaniiewade',\n",
       "       'indices': [0, 23]}]},\n",
       "    'description': {'urls': []}},\n",
       "   'protected': False,\n",
       "   'followers_count': 5794,\n",
       "   'friends_count': 164,\n",
       "   'listed_count': 23,\n",
       "   'created_at': 'Thu May 21 20:42:08 +0000 2020',\n",
       "   'favourites_count': 4803,\n",
       "   'utc_offset': None,\n",
       "   'time_zone': None,\n",
       "   'geo_enabled': False,\n",
       "   'verified': False,\n",
       "   'statuses_count': 2801,\n",
       "   'lang': None,\n",
       "   'contributors_enabled': False,\n",
       "   'is_translator': False,\n",
       "   'is_translation_enabled': False,\n",
       "   'profile_background_color': 'F5F8FA',\n",
       "   'profile_background_image_url': None,\n",
       "   'profile_background_image_url_https': None,\n",
       "   'profile_background_tile': False,\n",
       "   'profile_image_url': 'http://pbs.twimg.com/profile_images/1324679049558581249/aRQsXrp3_normal.jpg',\n",
       "   'profile_image_url_https': 'https://pbs.twimg.com/profile_images/1324679049558581249/aRQsXrp3_normal.jpg',\n",
       "   'profile_banner_url': 'https://pbs.twimg.com/profile_banners/1263570761136168969/1590095698',\n",
       "   'profile_link_color': '1DA1F2',\n",
       "   'profile_sidebar_border_color': 'C0DEED',\n",
       "   'profile_sidebar_fill_color': 'DDEEF6',\n",
       "   'profile_text_color': '333333',\n",
       "   'profile_use_background_image': True,\n",
       "   'has_extended_profile': False,\n",
       "   'default_profile': True,\n",
       "   'default_profile_image': False,\n",
       "   'following': False,\n",
       "   'follow_request_sent': False,\n",
       "   'notifications': False,\n",
       "   'translator_type': 'none'},\n",
       "  'geo': None,\n",
       "  'coordinates': None,\n",
       "  'place': None,\n",
       "  'contributors': None,\n",
       "  'is_quote_status': False,\n",
       "  'retweet_count': 227,\n",
       "  'favorite_count': 1494,\n",
       "  'favorited': False,\n",
       "  'retweeted': False,\n",
       "  'lang': 'en'},\n",
       " 'is_quote_status': False,\n",
       " 'retweet_count': 227,\n",
       " 'favorite_count': 0,\n",
       " 'favorited': False,\n",
       " 'retweeted': False,\n",
       " 'lang': 'en'}"
      ]
     },
     "execution_count": 11,
     "metadata": {},
     "output_type": "execute_result"
    }
   ],
   "source": [
    "g = gemini[0]\n",
    "g"
   ]
  },
  {
   "cell_type": "code",
   "execution_count": 12,
   "metadata": {},
   "outputs": [
    {
     "data": {
      "text/plain": [
       "'RT @meldoestarot: Gemini ♊ Libra ♎ Aquarius ♒ \\n\\nall I see for your next few months are growth, blessings and happiness. honestly, such good…'"
      ]
     },
     "execution_count": 12,
     "metadata": {},
     "output_type": "execute_result"
    }
   ],
   "source": [
    "g['text']"
   ]
  },
  {
   "cell_type": "code",
   "execution_count": 13,
   "metadata": {},
   "outputs": [
    {
     "data": {
      "text/plain": [
       "'_spicyyyyyy'"
      ]
     },
     "execution_count": 13,
     "metadata": {},
     "output_type": "execute_result"
    }
   ],
   "source": [
    "g['user']['screen_name']"
   ]
  },
  {
   "cell_type": "code",
   "execution_count": 14,
   "metadata": {},
   "outputs": [
    {
     "data": {
      "text/plain": [
       "dict_keys(['created_at', 'id', 'id_str', 'text', 'truncated', 'entities', 'metadata', 'source', 'in_reply_to_status_id', 'in_reply_to_status_id_str', 'in_reply_to_user_id', 'in_reply_to_user_id_str', 'in_reply_to_screen_name', 'user', 'geo', 'coordinates', 'place', 'contributors', 'retweeted_status', 'is_quote_status', 'retweet_count', 'favorite_count', 'favorited', 'retweeted', 'lang'])"
      ]
     },
     "execution_count": 14,
     "metadata": {},
     "output_type": "execute_result"
    }
   ],
   "source": [
    "g.keys()"
   ]
  },
  {
   "cell_type": "code",
   "execution_count": 15,
   "metadata": {},
   "outputs": [
    {
     "data": {
      "text/plain": [
       "227"
      ]
     },
     "execution_count": 15,
     "metadata": {},
     "output_type": "execute_result"
    }
   ],
   "source": [
    "g['retweet_count']"
   ]
  },
  {
   "cell_type": "code",
   "execution_count": 17,
   "metadata": {},
   "outputs": [
    {
     "data": {
      "text/plain": [
       "False"
      ]
     },
     "execution_count": 17,
     "metadata": {},
     "output_type": "execute_result"
    }
   ],
   "source": [
    "g['favorite_count']"
   ]
  },
  {
   "cell_type": "code",
   "execution_count": 10,
   "metadata": {},
   "outputs": [],
   "source": [
    "data_dicts = []"
   ]
  },
  {
   "cell_type": "code",
   "execution_count": 18,
   "metadata": {},
   "outputs": [],
   "source": [
    "for tweet in gemini:\n",
    "    data_dicts.append(\n",
    "    {\n",
    "        'text':tweet['text'],\n",
    "        'user':tweet['user']['screen_name'],\n",
    "        'retweets':tweet['retweet_count'],\n",
    "        'favorites':tweet['favorite_count'],\n",
    "        'datetime':tweet['created_at']\n",
    "    })"
   ]
  },
  {
   "cell_type": "code",
   "execution_count": 19,
   "metadata": {},
   "outputs": [],
   "source": [
    "data = pd.DataFrame.from_dict(data_dicts)"
   ]
  },
  {
   "cell_type": "code",
   "execution_count": 20,
   "metadata": {},
   "outputs": [
    {
     "data": {
      "text/html": [
       "<div>\n",
       "<style scoped>\n",
       "    .dataframe tbody tr th:only-of-type {\n",
       "        vertical-align: middle;\n",
       "    }\n",
       "\n",
       "    .dataframe tbody tr th {\n",
       "        vertical-align: top;\n",
       "    }\n",
       "\n",
       "    .dataframe thead th {\n",
       "        text-align: right;\n",
       "    }\n",
       "</style>\n",
       "<table border=\"1\" class=\"dataframe\">\n",
       "  <thead>\n",
       "    <tr style=\"text-align: right;\">\n",
       "      <th></th>\n",
       "      <th>text</th>\n",
       "      <th>user</th>\n",
       "      <th>retweets</th>\n",
       "    </tr>\n",
       "  </thead>\n",
       "  <tbody>\n",
       "    <tr>\n",
       "      <th>0</th>\n",
       "      <td>RT @meldoestarot: Gemini ♊ Libra ♎ Aquarius ♒ ...</td>\n",
       "      <td>_spicyyyyyy</td>\n",
       "      <td>227</td>\n",
       "    </tr>\n",
       "    <tr>\n",
       "      <th>1</th>\n",
       "      <td>Me and my kid brotha out on a ride 🌲🪓🦌🐻 #woods...</td>\n",
       "      <td>Gemini_209_</td>\n",
       "      <td>0</td>\n",
       "    </tr>\n",
       "    <tr>\n",
       "      <th>2</th>\n",
       "      <td>i got: straight\\ni am: SO FUCKING GAY\\n\\ni got...</td>\n",
       "      <td>momosdicc</td>\n",
       "      <td>0</td>\n",
       "    </tr>\n",
       "    <tr>\n",
       "      <th>3</th>\n",
       "      <td>Wtf is  in the Sky, this gemini is so talkative</td>\n",
       "      <td>Valq_Sousa</td>\n",
       "      <td>0</td>\n",
       "    </tr>\n",
       "    <tr>\n",
       "      <th>4</th>\n",
       "      <td>RT @meldoestarot: Gemini ♊ Libra ♎ Aquarius ♒ ...</td>\n",
       "      <td>shameee__</td>\n",
       "      <td>226</td>\n",
       "    </tr>\n",
       "  </tbody>\n",
       "</table>\n",
       "</div>"
      ],
      "text/plain": [
       "                                                text         user  retweets\n",
       "0  RT @meldoestarot: Gemini ♊ Libra ♎ Aquarius ♒ ...  _spicyyyyyy       227\n",
       "1  Me and my kid brotha out on a ride 🌲🪓🦌🐻 #woods...  Gemini_209_         0\n",
       "2  i got: straight\\ni am: SO FUCKING GAY\\n\\ni got...    momosdicc         0\n",
       "3    Wtf is  in the Sky, this gemini is so talkative   Valq_Sousa         0\n",
       "4  RT @meldoestarot: Gemini ♊ Libra ♎ Aquarius ♒ ...    shameee__       226"
      ]
     },
     "execution_count": 20,
     "metadata": {},
     "output_type": "execute_result"
    }
   ],
   "source": [
    "data.head()"
   ]
  },
  {
   "cell_type": "code",
   "execution_count": 36,
   "metadata": {},
   "outputs": [],
   "source": [
    "import os\n",
    "def transform_json_tweets_to_csv():\n",
    "    files = os.listdir()\n",
    "    files = [f for f in files if f[-4:] == 'json']\n",
    "    for file in files:\n",
    "        data_dicts = []\n",
    "        with open('gemini.json') as f:\n",
    "            gemini = json.load(f)\n",
    "        gemini = gemini['statuses']\n",
    "        for tweet in gemini:\n",
    "            data_dicts.append(\n",
    "            {\n",
    "                'text':tweet['text'],\n",
    "                'user':tweet['user']['screen_name'],\n",
    "                'retweets':tweet['retweet_count'],\n",
    "                'favorites':tweet['favorite_count'],\n",
    "                'datetime':tweet['created_at']\n",
    "            })\n",
    "        data = pd.DataFrame.from_dict(data_dicts)\n",
    "        data.to_csv(file[:-5]+'.csv')\n",
    "transform_json_tweets_to_csv()"
   ]
  },
  {
   "cell_type": "code",
   "execution_count": 22,
   "metadata": {},
   "outputs": [],
   "source": [
    "import os"
   ]
  },
  {
   "cell_type": "code",
   "execution_count": 29,
   "metadata": {},
   "outputs": [],
   "source": [
    "import os\n",
    "files = os.listdir()\n",
    "files = [f for f in files if f[-4:] == 'json']"
   ]
  },
  {
   "cell_type": "code",
   "execution_count": 30,
   "metadata": {},
   "outputs": [
    {
     "data": {
      "text/plain": [
       "['.git',\n",
       " '.ipynb_checkpoints',\n",
       " 'aries.json',\n",
       " 'bad-words.txt',\n",
       " 'cancer.json',\n",
       " 'clean_data_0.ipynb',\n",
       " 'clean_tweet.py',\n",
       " 'gemini.json',\n",
       " 'README.md',\n",
       " 'taurus.json',\n",
       " 'training_data.csv',\n",
       " 'tweets_11_7.csv',\n",
       " 'tweet_with_sentiment.csv',\n",
       " 'Untitled.ipynb',\n",
       " 'VADER.ipynb',\n",
       " 'vader_vs_sentiscore_simplified.csv',\n",
       " 'zodiac.json',\n",
       " 'ZodiacSentiment (1).ipynb',\n",
       " 'zodiac_11_7_a.csv',\n",
       " 'Zodiac_11_7_a.ipynb',\n",
       " '__pycache__']"
      ]
     },
     "execution_count": 30,
     "metadata": {},
     "output_type": "execute_result"
    }
   ],
   "source": [
    "l"
   ]
  },
  {
   "cell_type": "code",
   "execution_count": 31,
   "metadata": {},
   "outputs": [
    {
     "data": {
      "text/plain": [
       "['aries.json', 'cancer.json', 'gemini.json', 'taurus.json', 'zodiac.json']"
      ]
     },
     "execution_count": 31,
     "metadata": {},
     "output_type": "execute_result"
    }
   ],
   "source": [
    "l = [f for f in l if f[-4:] == 'json']\n",
    "l"
   ]
  },
  {
   "cell_type": "code",
   "execution_count": 27,
   "metadata": {},
   "outputs": [
    {
     "data": {
      "text/plain": [
       "'json'"
      ]
     },
     "execution_count": 27,
     "metadata": {},
     "output_type": "execute_result"
    }
   ],
   "source": [
    "'taurus.json'[-4:]"
   ]
  },
  {
   "cell_type": "code",
   "execution_count": 33,
   "metadata": {},
   "outputs": [],
   "source": [
    "df = pd.read_csv('cancer.csv')"
   ]
  },
  {
   "cell_type": "code",
   "execution_count": 34,
   "metadata": {},
   "outputs": [
    {
     "data": {
      "text/html": [
       "<div>\n",
       "<style scoped>\n",
       "    .dataframe tbody tr th:only-of-type {\n",
       "        vertical-align: middle;\n",
       "    }\n",
       "\n",
       "    .dataframe tbody tr th {\n",
       "        vertical-align: top;\n",
       "    }\n",
       "\n",
       "    .dataframe thead th {\n",
       "        text-align: right;\n",
       "    }\n",
       "</style>\n",
       "<table border=\"1\" class=\"dataframe\">\n",
       "  <thead>\n",
       "    <tr style=\"text-align: right;\">\n",
       "      <th></th>\n",
       "      <th>Unnamed: 0</th>\n",
       "      <th>text</th>\n",
       "      <th>user</th>\n",
       "      <th>retweets</th>\n",
       "    </tr>\n",
       "  </thead>\n",
       "  <tbody>\n",
       "    <tr>\n",
       "      <th>0</th>\n",
       "      <td>0</td>\n",
       "      <td>RT @meldoestarot: Gemini ♊ Libra ♎ Aquarius ♒ ...</td>\n",
       "      <td>_spicyyyyyy</td>\n",
       "      <td>227</td>\n",
       "    </tr>\n",
       "    <tr>\n",
       "      <th>1</th>\n",
       "      <td>1</td>\n",
       "      <td>Me and my kid brotha out on a ride 🌲🪓🦌🐻 #woods...</td>\n",
       "      <td>Gemini_209_</td>\n",
       "      <td>0</td>\n",
       "    </tr>\n",
       "    <tr>\n",
       "      <th>2</th>\n",
       "      <td>2</td>\n",
       "      <td>i got: straight\\ni am: SO FUCKING GAY\\n\\ni got...</td>\n",
       "      <td>momosdicc</td>\n",
       "      <td>0</td>\n",
       "    </tr>\n",
       "    <tr>\n",
       "      <th>3</th>\n",
       "      <td>3</td>\n",
       "      <td>Wtf is  in the Sky, this gemini is so talkative</td>\n",
       "      <td>Valq_Sousa</td>\n",
       "      <td>0</td>\n",
       "    </tr>\n",
       "    <tr>\n",
       "      <th>4</th>\n",
       "      <td>4</td>\n",
       "      <td>RT @meldoestarot: Gemini ♊ Libra ♎ Aquarius ♒ ...</td>\n",
       "      <td>shameee__</td>\n",
       "      <td>226</td>\n",
       "    </tr>\n",
       "    <tr>\n",
       "      <th>...</th>\n",
       "      <td>...</td>\n",
       "      <td>...</td>\n",
       "      <td>...</td>\n",
       "      <td>...</td>\n",
       "    </tr>\n",
       "    <tr>\n",
       "      <th>95</th>\n",
       "      <td>95</td>\n",
       "      <td>@fairynanaba @juuzouscumrag @m1daris @shawtyba...</td>\n",
       "      <td>DCXILEI</td>\n",
       "      <td>0</td>\n",
       "    </tr>\n",
       "    <tr>\n",
       "      <th>96</th>\n",
       "      <td>96</td>\n",
       "      <td>trump a gemini. i know he crumbling inside rn ...</td>\n",
       "      <td>deeeonlydonlady</td>\n",
       "      <td>0</td>\n",
       "    </tr>\n",
       "    <tr>\n",
       "      <th>97</th>\n",
       "      <td>97</td>\n",
       "      <td>RT @KaiaSinclair: Air moons so Libra, Aquarius...</td>\n",
       "      <td>kasskhalifa</td>\n",
       "      <td>252</td>\n",
       "    </tr>\n",
       "    <tr>\n",
       "      <th>98</th>\n",
       "      <td>98</td>\n",
       "      <td>RT @ZorayaBlack_: Sagittarius/Gemini/Pisces/Vi...</td>\n",
       "      <td>Prettyresilient</td>\n",
       "      <td>225</td>\n",
       "    </tr>\n",
       "    <tr>\n",
       "      <th>99</th>\n",
       "      <td>99</td>\n",
       "      <td>RT @ZorayaBlack_: Sagittarius/Gemini/Pisces/Vi...</td>\n",
       "      <td>AlaysiaVirgo</td>\n",
       "      <td>225</td>\n",
       "    </tr>\n",
       "  </tbody>\n",
       "</table>\n",
       "<p>100 rows × 4 columns</p>\n",
       "</div>"
      ],
      "text/plain": [
       "    Unnamed: 0                                               text  \\\n",
       "0            0  RT @meldoestarot: Gemini ♊ Libra ♎ Aquarius ♒ ...   \n",
       "1            1  Me and my kid brotha out on a ride 🌲🪓🦌🐻 #woods...   \n",
       "2            2  i got: straight\\ni am: SO FUCKING GAY\\n\\ni got...   \n",
       "3            3    Wtf is  in the Sky, this gemini is so talkative   \n",
       "4            4  RT @meldoestarot: Gemini ♊ Libra ♎ Aquarius ♒ ...   \n",
       "..         ...                                                ...   \n",
       "95          95  @fairynanaba @juuzouscumrag @m1daris @shawtyba...   \n",
       "96          96  trump a gemini. i know he crumbling inside rn ...   \n",
       "97          97  RT @KaiaSinclair: Air moons so Libra, Aquarius...   \n",
       "98          98  RT @ZorayaBlack_: Sagittarius/Gemini/Pisces/Vi...   \n",
       "99          99  RT @ZorayaBlack_: Sagittarius/Gemini/Pisces/Vi...   \n",
       "\n",
       "               user  retweets  \n",
       "0       _spicyyyyyy       227  \n",
       "1       Gemini_209_         0  \n",
       "2         momosdicc         0  \n",
       "3        Valq_Sousa         0  \n",
       "4         shameee__       226  \n",
       "..              ...       ...  \n",
       "95          DCXILEI         0  \n",
       "96  deeeonlydonlady         0  \n",
       "97      kasskhalifa       252  \n",
       "98  Prettyresilient       225  \n",
       "99     AlaysiaVirgo       225  \n",
       "\n",
       "[100 rows x 4 columns]"
      ]
     },
     "execution_count": 34,
     "metadata": {},
     "output_type": "execute_result"
    }
   ],
   "source": [
    "df"
   ]
  },
  {
   "cell_type": "code",
   "execution_count": null,
   "metadata": {},
   "outputs": [],
   "source": []
  }
 ],
 "metadata": {
  "kernelspec": {
   "display_name": "Python 3",
   "language": "python",
   "name": "python3"
  },
  "language_info": {
   "codemirror_mode": {
    "name": "ipython",
    "version": 3
   },
   "file_extension": ".py",
   "mimetype": "text/x-python",
   "name": "python",
   "nbconvert_exporter": "python",
   "pygments_lexer": "ipython3",
   "version": "3.7.6"
  }
 },
 "nbformat": 4,
 "nbformat_minor": 4
}
