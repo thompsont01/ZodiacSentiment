{
 "cells": [
  {
   "cell_type": "code",
   "execution_count": 1,
   "metadata": {},
   "outputs": [],
   "source": [
    "import os\n",
    "import json\n",
    "import pandas as pd\n",
    "def transform_json_tweets_to_csv():\n",
    "    files = os.listdir()\n",
    "    files = [f for f in files if f[-4:] == 'json']\n",
    "    for file in files:\n",
    "        data_dicts = []\n",
    "        with open(file) as f:\n",
    "            zodiac = json.load(f)\n",
    "        zodiac = zodiac['statuses']\n",
    "        for tweet in zodiac:\n",
    "            data_dicts.append(\n",
    "            {\n",
    "                'text':tweet['text'],\n",
    "                'user':tweet['user']['screen_name'],\n",
    "                'retweets':tweet['retweet_count'],\n",
    "                'favorites':tweet['favorite_count'],\n",
    "                'datetime':tweet['created_at']\n",
    "            })\n",
    "        data = pd.DataFrame.from_dict(data_dicts)\n",
    "        data.to_csv(file[:-5]+'.csv')\n",
    "transform_json_tweets_to_csv()\n"
   ]
  },
  {
   "cell_type": "code",
   "execution_count": null,
   "metadata": {},
   "outputs": [],
   "source": []
  }
 ],
 "metadata": {
  "kernelspec": {
   "display_name": "Python 3",
   "language": "python",
   "name": "python3"
  },
  "language_info": {
   "codemirror_mode": {
    "name": "ipython",
    "version": 3
   },
   "file_extension": ".py",
   "mimetype": "text/x-python",
   "name": "python",
   "nbconvert_exporter": "python",
   "pygments_lexer": "ipython3",
   "version": "3.7.6"
  }
 },
 "nbformat": 4,
 "nbformat_minor": 4
}
