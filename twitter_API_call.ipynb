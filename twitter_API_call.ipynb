{
 "cells": [
  {
   "cell_type": "code",
   "execution_count": 1,
   "metadata": {},
   "outputs": [
    {
     "name": "stdout",
     "output_type": "stream",
     "text": [
      "Requirement already satisfied: tweepy in /opt/anaconda3/lib/python3.7/site-packages (3.9.0)\n",
      "Requirement already satisfied: requests[socks]>=2.11.1 in /opt/anaconda3/lib/python3.7/site-packages (from tweepy) (2.22.0)\n",
      "Requirement already satisfied: six>=1.10.0 in /opt/anaconda3/lib/python3.7/site-packages (from tweepy) (1.14.0)\n",
      "Requirement already satisfied: requests-oauthlib>=0.7.0 in /opt/anaconda3/lib/python3.7/site-packages (from tweepy) (1.3.0)\n",
      "Requirement already satisfied: urllib3!=1.25.0,!=1.25.1,<1.26,>=1.21.1 in /opt/anaconda3/lib/python3.7/site-packages (from requests[socks]>=2.11.1->tweepy) (1.25.8)\n",
      "Requirement already satisfied: idna<2.9,>=2.5 in /opt/anaconda3/lib/python3.7/site-packages (from requests[socks]>=2.11.1->tweepy) (2.8)\n",
      "Requirement already satisfied: chardet<3.1.0,>=3.0.2 in /opt/anaconda3/lib/python3.7/site-packages (from requests[socks]>=2.11.1->tweepy) (3.0.4)\n",
      "Requirement already satisfied: certifi>=2017.4.17 in /opt/anaconda3/lib/python3.7/site-packages (from requests[socks]>=2.11.1->tweepy) (2019.11.28)\n",
      "Requirement already satisfied: PySocks!=1.5.7,>=1.5.6; extra == \"socks\" in /opt/anaconda3/lib/python3.7/site-packages (from requests[socks]>=2.11.1->tweepy) (1.7.1)\n",
      "Requirement already satisfied: oauthlib>=3.0.0 in /opt/anaconda3/lib/python3.7/site-packages (from requests-oauthlib>=0.7.0->tweepy) (3.1.0)\n"
     ]
    }
   ],
   "source": [
    "!pip install tweepy"
   ]
  },
  {
   "cell_type": "code",
   "execution_count": 42,
   "metadata": {},
   "outputs": [],
   "source": [
    "import pandas as pd\n",
    "import numpy as np\n",
    "import matplotlib.pyplot as plt\n",
    "import time\n",
    "import tweepy\n",
    "import re\n",
    "import json\n",
    "from pprint import pprint"
   ]
  },
  {
   "cell_type": "code",
   "execution_count": 20,
   "metadata": {},
   "outputs": [],
   "source": [
    "consumer_key = \"eL8BBKYIKuX3Zs5stCy65H4ZK\"\n",
    "consumer_secret = \"bPNUHq248Cy3AxfrsDelhLnLrqiBq2TI7dyZ5kzUQV2OpIfG4E\"\n",
    "access_key = \"1323476698361290753-Lur1HA32KZ2iFvylxkC8MMSSnj7tXC\"\n",
    "access_secret = \"BHZXf3F0zIvTO2BkyOK6Mx3xMNZDr3pCmPFr0sSWbWrwV\"\n",
    "    "
   ]
  },
  {
   "cell_type": "code",
   "execution_count": 21,
   "metadata": {},
   "outputs": [],
   "source": [
    "def initialize():\n",
    "    auth = tweepy.OAuthHandler(consumer_key, consumer_secret)\n",
    "    auth.set_access_token(access_key, access_secret)\n",
    "    api = tweepy.API(auth, parser = tweepy.parsers.JSONParser())\n",
    "    return api \n",
    "api = initialize()"
   ]
  },
  {
   "cell_type": "code",
   "execution_count": 48,
   "metadata": {},
   "outputs": [],
   "source": [
    "comp_searches = (\"@ZodiacTerms\", \"@ZodiacHub\", \"@ZodiacLife\", \"@ZodiacKilla69\", \"@zodiacbeat\", \"@zodiacashomes\", \"@ZodiacFact\", \"@CinematicZodiac\")"
   ]
  },
  {
   "cell_type": "code",
   "execution_count": null,
   "metadata": {},
   "outputs": [],
   "source": [
    "# Array to hold sentiment\n",
    "sentiments = []\n",
    "\n",
    "# Iterate through all the comp_searches\n",
    "for search in comp_searches:\n",
    "       \n",
    "    # Bring out the 100 tweets\n",
    "    comp_tweets = api.user_timeline(search, count=5000)\n",
    "    \n",
    "    # Loop through the 100 tweets\n",
    "    for tweet in comp_tweets:\n",
    "        text = tweet[\"text\"]\n",
    "        \n",
    "     # Add each value to the appropriate array\n",
    "        sentiments.append({\"User\": search,\n",
    "                           \"text\":text,\n",
    "                       \"Date\": tweet[\"created_at\"] \n",
    "                        })"
   ]
  },
  {
   "cell_type": "code",
   "execution_count": 138,
   "metadata": {},
   "outputs": [],
   "source": [
    "# Call API search for English only tweets with the word \"aries\" and with 400 Tweets per month.\n",
    "\n",
    "aries = api.search(\"aries\", count=100, lang='en')\n"
   ]
  },
  {
   "cell_type": "code",
   "execution_count": 86,
   "metadata": {},
   "outputs": [
    {
     "data": {
      "text/plain": [
       "100"
      ]
     },
     "execution_count": 86,
     "metadata": {},
     "output_type": "execute_result"
    }
   ],
   "source": [
    "len(aries[\"statuses\"])"
   ]
  },
  {
   "cell_type": "code",
   "execution_count": 139,
   "metadata": {},
   "outputs": [],
   "source": [
    "with open(\"aries4.json\", \"w\") as out_file:\n",
    "    json.dump(aries, out_file, indent=4)"
   ]
  },
  {
   "cell_type": "code",
   "execution_count": 140,
   "metadata": {},
   "outputs": [],
   "source": [
    "taurus = api.search(\"taurus\", count=100, lang='en')"
   ]
  },
  {
   "cell_type": "code",
   "execution_count": 141,
   "metadata": {},
   "outputs": [],
   "source": [
    "with open(\"taurus4.json\", \"w\") as out_file:\n",
    "    json.dump(taurus, out_file, indent=4)"
   ]
  },
  {
   "cell_type": "code",
   "execution_count": 142,
   "metadata": {},
   "outputs": [],
   "source": [
    "gemini = api.search(\"gemini\", count=100, lang='en')"
   ]
  },
  {
   "cell_type": "code",
   "execution_count": 143,
   "metadata": {},
   "outputs": [],
   "source": [
    "with open(\"gemini4.json\", \"w\") as out_file:\n",
    "    json.dump(gemini, out_file, indent=4)"
   ]
  },
  {
   "cell_type": "code",
   "execution_count": 144,
   "metadata": {},
   "outputs": [],
   "source": [
    "cancer = api.search(\"cancer\", count=100, lang='en')"
   ]
  },
  {
   "cell_type": "code",
   "execution_count": 145,
   "metadata": {},
   "outputs": [],
   "source": [
    "with open(\"cancer4.json\", \"w\") as out_file:\n",
    "    json.dump(cancer, out_file, indent=4)"
   ]
  },
  {
   "cell_type": "code",
   "execution_count": 146,
   "metadata": {},
   "outputs": [],
   "source": [
    "leo = api.search(\"leo\", count=100, lang='en')\n"
   ]
  },
  {
   "cell_type": "code",
   "execution_count": 147,
   "metadata": {},
   "outputs": [],
   "source": [
    "with open(\"leo4.json\", \"w\") as out_file:\n",
    "    json.dump(leo, out_file, indent=4)"
   ]
  },
  {
   "cell_type": "code",
   "execution_count": 148,
   "metadata": {},
   "outputs": [],
   "source": [
    "virgo = api.search(\"virgo\", count=100, lang='en')"
   ]
  },
  {
   "cell_type": "code",
   "execution_count": 149,
   "metadata": {},
   "outputs": [],
   "source": [
    "with open(\"virgo4.json\", \"w\") as out_file:\n",
    "    json.dump(virgo, out_file, indent=4)"
   ]
  },
  {
   "cell_type": "code",
   "execution_count": 150,
   "metadata": {},
   "outputs": [],
   "source": [
    "libra = api.search(\"libra\", count=100, lang='en')"
   ]
  },
  {
   "cell_type": "code",
   "execution_count": 151,
   "metadata": {},
   "outputs": [],
   "source": [
    "with open(\"libra4.json\", \"w\") as out_file:\n",
    "    json.dump(libra, out_file, indent=4)"
   ]
  },
  {
   "cell_type": "code",
   "execution_count": 152,
   "metadata": {},
   "outputs": [],
   "source": [
    "scorpio = api.search(\"scorpio\", count=100, lang='en')"
   ]
  },
  {
   "cell_type": "code",
   "execution_count": 153,
   "metadata": {},
   "outputs": [],
   "source": [
    "with open(\"scorpio4.json\", \"w\") as out_file:\n",
    "    json.dump(scorpio, out_file, indent=4)"
   ]
  },
  {
   "cell_type": "code",
   "execution_count": 154,
   "metadata": {},
   "outputs": [],
   "source": [
    "sagittarius = api.search(\"sagittarius\", count=100, lang='en')"
   ]
  },
  {
   "cell_type": "code",
   "execution_count": 155,
   "metadata": {},
   "outputs": [],
   "source": [
    "with open(\"sagittarius4.json\", \"w\") as out_file:\n",
    "    json.dump(sagittarius, out_file, indent=4)"
   ]
  },
  {
   "cell_type": "code",
   "execution_count": 156,
   "metadata": {},
   "outputs": [],
   "source": [
    "capricorn = api.search(\"capricorn\", count=100, lang='en')"
   ]
  },
  {
   "cell_type": "code",
   "execution_count": 157,
   "metadata": {},
   "outputs": [],
   "source": [
    "with open(\"capricorn4.json\", \"w\") as out_file:\n",
    "    json.dump(capricorn, out_file, indent=4)"
   ]
  },
  {
   "cell_type": "code",
   "execution_count": 158,
   "metadata": {},
   "outputs": [],
   "source": [
    "aquarius = api.search(\"aquarius\", count=100, lang='en')"
   ]
  },
  {
   "cell_type": "code",
   "execution_count": 159,
   "metadata": {},
   "outputs": [],
   "source": [
    "with open(\"aquarius4.json\", \"w\") as out_file:\n",
    "    json.dump(aquarius, out_file, indent=4)"
   ]
  },
  {
   "cell_type": "code",
   "execution_count": 160,
   "metadata": {},
   "outputs": [],
   "source": [
    "pisces = api.search(\"pisces\", count=100, lang='en')"
   ]
  },
  {
   "cell_type": "code",
   "execution_count": 161,
   "metadata": {},
   "outputs": [],
   "source": [
    "with open(\"pisces4.json\", \"w\") as out_file:\n",
    "    json.dump(pisces, out_file, indent=4)"
   ]
  },
  {
   "cell_type": "code",
   "execution_count": 52,
   "metadata": {},
   "outputs": [
    {
     "data": {
      "text/html": [
       "<div>\n",
       "<style scoped>\n",
       "    .dataframe tbody tr th:only-of-type {\n",
       "        vertical-align: middle;\n",
       "    }\n",
       "\n",
       "    .dataframe tbody tr th {\n",
       "        vertical-align: top;\n",
       "    }\n",
       "\n",
       "    .dataframe thead th {\n",
       "        text-align: right;\n",
       "    }\n",
       "</style>\n",
       "<table border=\"1\" class=\"dataframe\">\n",
       "  <thead>\n",
       "    <tr style=\"text-align: right;\">\n",
       "      <th></th>\n",
       "      <th>User</th>\n",
       "      <th>text</th>\n",
       "      <th>Date</th>\n",
       "    </tr>\n",
       "  </thead>\n",
       "  <tbody>\n",
       "    <tr>\n",
       "      <th>0</th>\n",
       "      <td>@ZodiacTerms</td>\n",
       "      <td>8 Signs That Your Relationship Should and Will...</td>\n",
       "      <td>Fri Nov 06 22:12:03 +0000 2020</td>\n",
       "    </tr>\n",
       "    <tr>\n",
       "      <th>1</th>\n",
       "      <td>@ZodiacTerms</td>\n",
       "      <td>11 Of The Funniest Things People Have Said In ...</td>\n",
       "      <td>Thu Nov 05 22:11:02 +0000 2020</td>\n",
       "    </tr>\n",
       "    <tr>\n",
       "      <th>2</th>\n",
       "      <td>@ZodiacTerms</td>\n",
       "      <td>Hilarious Differences Between Single And Datin...</td>\n",
       "      <td>Wed Nov 04 22:54:03 +0000 2020</td>\n",
       "    </tr>\n",
       "    <tr>\n",
       "      <th>3</th>\n",
       "      <td>@ZodiacTerms</td>\n",
       "      <td>9 People Who Are Really Nailing This Whole Mar...</td>\n",
       "      <td>Tue Nov 03 22:49:02 +0000 2020</td>\n",
       "    </tr>\n",
       "    <tr>\n",
       "      <th>4</th>\n",
       "      <td>@ZodiacTerms</td>\n",
       "      <td>10 Dead giveaways of a Cheating Woman - https:...</td>\n",
       "      <td>Mon Nov 02 22:52:03 +0000 2020</td>\n",
       "    </tr>\n",
       "    <tr>\n",
       "      <th>...</th>\n",
       "      <td>...</td>\n",
       "      <td>...</td>\n",
       "      <td>...</td>\n",
       "    </tr>\n",
       "    <tr>\n",
       "      <th>459</th>\n",
       "      <td>@zodiacashomes</td>\n",
       "      <td>Capricorn, Virgo,Taurus Leo and Aquarius &amp;amp;...</td>\n",
       "      <td>Fri Oct 23 16:02:09 +0000 2020</td>\n",
       "    </tr>\n",
       "    <tr>\n",
       "      <th>460</th>\n",
       "      <td>@zodiacashomes</td>\n",
       "      <td>Taurus,Aquarius,Leo,Pisces and Sagittarius dre...</td>\n",
       "      <td>Fri Oct 23 15:54:05 +0000 2020</td>\n",
       "    </tr>\n",
       "    <tr>\n",
       "      <th>461</th>\n",
       "      <td>@zodiacashomes</td>\n",
       "      <td>RT @JoeBiden: Donald Trump is the worst presid...</td>\n",
       "      <td>Fri Oct 23 15:36:24 +0000 2020</td>\n",
       "    </tr>\n",
       "    <tr>\n",
       "      <th>462</th>\n",
       "      <td>@zodiacashomes</td>\n",
       "      <td>RT @manifestmomryan: 777\\n\\nThis tweet is full...</td>\n",
       "      <td>Mon Oct 05 04:56:40 +0000 2020</td>\n",
       "    </tr>\n",
       "    <tr>\n",
       "      <th>463</th>\n",
       "      <td>@zodiacashomes</td>\n",
       "      <td>If you want to get bit just say dat. https://t...</td>\n",
       "      <td>Sun Aug 23 21:41:55 +0000 2020</td>\n",
       "    </tr>\n",
       "  </tbody>\n",
       "</table>\n",
       "<p>464 rows × 3 columns</p>\n",
       "</div>"
      ],
      "text/plain": [
       "               User                                               text  \\\n",
       "0      @ZodiacTerms  8 Signs That Your Relationship Should and Will...   \n",
       "1      @ZodiacTerms  11 Of The Funniest Things People Have Said In ...   \n",
       "2      @ZodiacTerms  Hilarious Differences Between Single And Datin...   \n",
       "3      @ZodiacTerms  9 People Who Are Really Nailing This Whole Mar...   \n",
       "4      @ZodiacTerms  10 Dead giveaways of a Cheating Woman - https:...   \n",
       "..              ...                                                ...   \n",
       "459  @zodiacashomes  Capricorn, Virgo,Taurus Leo and Aquarius &amp;...   \n",
       "460  @zodiacashomes  Taurus,Aquarius,Leo,Pisces and Sagittarius dre...   \n",
       "461  @zodiacashomes  RT @JoeBiden: Donald Trump is the worst presid...   \n",
       "462  @zodiacashomes  RT @manifestmomryan: 777\\n\\nThis tweet is full...   \n",
       "463  @zodiacashomes  If you want to get bit just say dat. https://t...   \n",
       "\n",
       "                               Date  \n",
       "0    Fri Nov 06 22:12:03 +0000 2020  \n",
       "1    Thu Nov 05 22:11:02 +0000 2020  \n",
       "2    Wed Nov 04 22:54:03 +0000 2020  \n",
       "3    Tue Nov 03 22:49:02 +0000 2020  \n",
       "4    Mon Nov 02 22:52:03 +0000 2020  \n",
       "..                              ...  \n",
       "459  Fri Oct 23 16:02:09 +0000 2020  \n",
       "460  Fri Oct 23 15:54:05 +0000 2020  \n",
       "461  Fri Oct 23 15:36:24 +0000 2020  \n",
       "462  Mon Oct 05 04:56:40 +0000 2020  \n",
       "463  Sun Aug 23 21:41:55 +0000 2020  \n",
       "\n",
       "[464 rows x 3 columns]"
      ]
     },
     "execution_count": 52,
     "metadata": {},
     "output_type": "execute_result"
    }
   ],
   "source": [
    "df = pd.DataFrame(sentiments)\n",
    "df"
   ]
  },
  {
   "cell_type": "code",
   "execution_count": 53,
   "metadata": {},
   "outputs": [],
   "source": [
    "df.to_csv(\"tweets_11_7.csv\", index=False)"
   ]
  },
  {
   "cell_type": "code",
   "execution_count": null,
   "metadata": {},
   "outputs": [],
   "source": []
  }
 ],
 "metadata": {
  "kernelspec": {
   "display_name": "Python 3",
   "language": "python",
   "name": "python3"
  },
  "language_info": {
   "codemirror_mode": {
    "name": "ipython",
    "version": 3
   },
   "file_extension": ".py",
   "mimetype": "text/x-python",
   "name": "python",
   "nbconvert_exporter": "python",
   "pygments_lexer": "ipython3",
   "version": "3.7.6"
  }
 },
 "nbformat": 4,
 "nbformat_minor": 4
}
