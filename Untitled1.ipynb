{
 "cells": [
  {
   "cell_type": "code",
   "execution_count": null,
   "metadata": {},
   "outputs": [],
   "source": [
    "\n",
    "from vaderSentiment.vaderSentiment import SentimentIntensityAnalyzer\n",
    "import pandas as pd\n",
    "#import numpy as np\n",
    "#import matplotlib.pyplot as plt\n",
    "from clean_tweet import clean_tweet\n",
    "import json"
   ]
  },
  {
   "cell_type": "code",
   "execution_count": null,
   "metadata": {},
   "outputs": [],
   "source": [
    "[2]:\n",
    "#VADER sentiment analyzer is a pre-trained sentiment analyzer designed for social media\n",
    "#analyser = SentimentIntensityAnalyzer()"
   ]
  },
  {
   "cell_type": "code",
   "execution_count": null,
   "metadata": {},
   "outputs": [],
   "source": [
    "with open('gemini.json') as f:\n",
    "    gemini = json.load(f)"
   ]
  },
  {
   "cell_type": "code",
   "execution_count": null,
   "metadata": {},
   "outputs": [],
   "source": [
    "\n",
    "gemini.keys()"
   ]
  },
  {
   "cell_type": "code",
   "execution_count": null,
   "metadata": {},
   "outputs": [],
   "source": [
    "import os\n",
    "def transform_json_tweets_to_csv():\n",
    "    files = os.listdir()\n",
    "    files = [f for f in files if f[-4:] == 'json']\n",
    "    for file in files:\n",
    "        data_dicts = []\n",
    "        with open('gemini.json') as f:\n",
    "            gemini = json.load(f)\n",
    "        gemini = gemini['statuses']\n",
    "        for tweet in gemini:\n",
    "            data_dicts.append(\n",
    "            {\n",
    "                'text':tweet['text'],\n",
    "                'user':tweet['user']['screen_name'],\n",
    "                'retweets':tweet['retweet_count'],\n",
    "                'favorites':tweet['favorite_count'],\n",
    "                'datetime':tweet['created_at']\n",
    "            })\n",
    "        data = pd.DataFrame.from_dict(data_dicts)\n",
    "        data.to_csv(file[:-5]+'.csv')\n",
    "transform_json_tweets_to_csv()"
   ]
  },
  {
   "cell_type": "code",
   "execution_count": null,
   "metadata": {},
   "outputs": [],
   "source": [
    "import os"
   ]
  },
  {
   "cell_type": "code",
   "execution_count": null,
   "metadata": {},
   "outputs": [],
   "source": [
    "\n",
    "import os\n",
    "files = os.listdir()\n",
    "files = [f for f in files if f[-4:] == 'json']"
   ]
  },
  {
   "cell_type": "code",
   "execution_count": null,
   "metadata": {},
   "outputs": [],
   "source": [
    "l = [f for f in l if f[-4:] == 'json']\n",
    "l"
   ]
  },
  {
   "cell_type": "code",
   "execution_count": null,
   "metadata": {},
   "outputs": [],
   "source": []
  }
 ],
 "metadata": {
  "kernelspec": {
   "display_name": "Python 3",
   "language": "python",
   "name": "python3"
  },
  "language_info": {
   "codemirror_mode": {
    "name": "ipython",
    "version": 3
   },
   "file_extension": ".py",
   "mimetype": "text/x-python",
   "name": "python",
   "nbconvert_exporter": "python",
   "pygments_lexer": "ipython3",
   "version": "3.7.6"
  }
 },
 "nbformat": 4,
 "nbformat_minor": 4
}
