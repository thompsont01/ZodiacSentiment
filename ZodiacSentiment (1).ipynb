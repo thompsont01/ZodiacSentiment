{
  "nbformat": 4,
  "nbformat_minor": 0,
  "metadata": {
    "colab": {
      "name": "ZodiacSentiment.ipynb",
      "provenance": [],
      "collapsed_sections": []
    },
    "kernelspec": {
      "name": "python3",
      "display_name": "Python 3"
    }
  },
  "cells": [
    {
      "cell_type": "code",
      "metadata": {
        "id": "Twa51VlwRieh"
      },
      "source": [
        "#Authors:\n",
        "#Trevor Kleinstuber\n",
        "#Laura Paakh\n",
        "#Stephen Hong\n",
        "#Thompson Tang\n",
        "\n",
        "#2020 Twitter Zodiac Sentiment Analysis"
      ],
      "execution_count": null,
      "outputs": []
    },
    {
      "cell_type": "code",
      "metadata": {
        "id": "Xhelg9XfU80V"
      },
      "source": [
        ""
      ],
      "execution_count": null,
      "outputs": []
    },
    {
      "cell_type": "code",
      "metadata": {
        "id": "i2Et3jYWXonb"
      },
      "source": [
        "import pandas as pd"
      ],
      "execution_count": null,
      "outputs": []
    },
    {
      "cell_type": "code",
      "metadata": {
        "id": "yLG90dTsYJbv"
      },
      "source": [
        "#data = pd.read_csv('/content/training.1600000.processed.noemoticon.csv')"
      ],
      "execution_count": null,
      "outputs": []
    },
    {
      "cell_type": "code",
      "metadata": {
        "id": "29HoFYudYNbh",
        "outputId": "5ef751cf-f6dd-4629-998d-4d007c85152e",
        "colab": {
          "base_uri": "https://localhost:8080/",
          "height": 323
        }
      },
      "source": [
        "#data.head()"
      ],
      "execution_count": null,
      "outputs": [
        {
          "output_type": "execute_result",
          "data": {
            "text/html": [
              "<div>\n",
              "<style scoped>\n",
              "    .dataframe tbody tr th:only-of-type {\n",
              "        vertical-align: middle;\n",
              "    }\n",
              "\n",
              "    .dataframe tbody tr th {\n",
              "        vertical-align: top;\n",
              "    }\n",
              "\n",
              "    .dataframe thead th {\n",
              "        text-align: right;\n",
              "    }\n",
              "</style>\n",
              "<table border=\"1\" class=\"dataframe\">\n",
              "  <thead>\n",
              "    <tr style=\"text-align: right;\">\n",
              "      <th></th>\n",
              "      <th>0</th>\n",
              "      <th>1467810369</th>\n",
              "      <th>Mon Apr 06 22:19:45 PDT 2009</th>\n",
              "      <th>NO_QUERY</th>\n",
              "      <th>_TheSpecialOne_</th>\n",
              "      <th>@switchfoot http://twitpic.com/2y1zl - Awww, that's a bummer.  You shoulda got David Carr of Third Day to do it. ;D</th>\n",
              "    </tr>\n",
              "  </thead>\n",
              "  <tbody>\n",
              "    <tr>\n",
              "      <th>0</th>\n",
              "      <td>0</td>\n",
              "      <td>1467810672</td>\n",
              "      <td>Mon Apr 06 22:19:49 PDT 2009</td>\n",
              "      <td>NO_QUERY</td>\n",
              "      <td>scotthamilton</td>\n",
              "      <td>is upset that he can't update his Facebook by ...</td>\n",
              "    </tr>\n",
              "    <tr>\n",
              "      <th>1</th>\n",
              "      <td>0</td>\n",
              "      <td>1467810917</td>\n",
              "      <td>Mon Apr 06 22:19:53 PDT 2009</td>\n",
              "      <td>NO_QUERY</td>\n",
              "      <td>mattycus</td>\n",
              "      <td>@Kenichan I dived many times for the ball. Man...</td>\n",
              "    </tr>\n",
              "    <tr>\n",
              "      <th>2</th>\n",
              "      <td>0</td>\n",
              "      <td>1467811184</td>\n",
              "      <td>Mon Apr 06 22:19:57 PDT 2009</td>\n",
              "      <td>NO_QUERY</td>\n",
              "      <td>ElleCTF</td>\n",
              "      <td>my whole body feels itchy and like its on fire</td>\n",
              "    </tr>\n",
              "    <tr>\n",
              "      <th>3</th>\n",
              "      <td>0</td>\n",
              "      <td>1467811193</td>\n",
              "      <td>Mon Apr 06 22:19:57 PDT 2009</td>\n",
              "      <td>NO_QUERY</td>\n",
              "      <td>Karoli</td>\n",
              "      <td>@nationwideclass no, it's not behaving at all....</td>\n",
              "    </tr>\n",
              "    <tr>\n",
              "      <th>4</th>\n",
              "      <td>0</td>\n",
              "      <td>1467811372</td>\n",
              "      <td>Mon Apr 06 22:20:00 PDT 2009</td>\n",
              "      <td>NO_QUERY</td>\n",
              "      <td>joy_wolf</td>\n",
              "      <td>@Kwesidei not the whole crew</td>\n",
              "    </tr>\n",
              "  </tbody>\n",
              "</table>\n",
              "</div>"
            ],
            "text/plain": [
              "   0  ...  @switchfoot http://twitpic.com/2y1zl - Awww, that's a bummer.  You shoulda got David Carr of Third Day to do it. ;D\n",
              "0  0  ...  is upset that he can't update his Facebook by ...                                                                  \n",
              "1  0  ...  @Kenichan I dived many times for the ball. Man...                                                                  \n",
              "2  0  ...    my whole body feels itchy and like its on fire                                                                   \n",
              "3  0  ...  @nationwideclass no, it's not behaving at all....                                                                  \n",
              "4  0  ...                      @Kwesidei not the whole crew                                                                   \n",
              "\n",
              "[5 rows x 6 columns]"
            ]
          },
          "metadata": {
            "tags": []
          },
          "execution_count": 5
        }
      ]
    },
    {
      "cell_type": "code",
      "metadata": {
        "id": "9aBBtg_7YRAm",
        "outputId": "d97df43b-4ad1-48de-de16-3c64e4a2dc9e",
        "colab": {
          "base_uri": "https://localhost:8080/",
          "height": 733
        }
      },
      "source": [
        "#data.sample(10)"
      ],
      "execution_count": null,
      "outputs": [
        {
          "output_type": "execute_result",
          "data": {
            "text/html": [
              "<div>\n",
              "<style scoped>\n",
              "    .dataframe tbody tr th:only-of-type {\n",
              "        vertical-align: middle;\n",
              "    }\n",
              "\n",
              "    .dataframe tbody tr th {\n",
              "        vertical-align: top;\n",
              "    }\n",
              "\n",
              "    .dataframe thead th {\n",
              "        text-align: right;\n",
              "    }\n",
              "</style>\n",
              "<table border=\"1\" class=\"dataframe\">\n",
              "  <thead>\n",
              "    <tr style=\"text-align: right;\">\n",
              "      <th></th>\n",
              "      <th>0</th>\n",
              "      <th>1467810369</th>\n",
              "      <th>Mon Apr 06 22:19:45 PDT 2009</th>\n",
              "      <th>NO_QUERY</th>\n",
              "      <th>_TheSpecialOne_</th>\n",
              "      <th>@switchfoot http://twitpic.com/2y1zl - Awww, that's a bummer.  You shoulda got David Carr of Third Day to do it. ;D</th>\n",
              "    </tr>\n",
              "  </thead>\n",
              "  <tbody>\n",
              "    <tr>\n",
              "      <th>130525</th>\n",
              "      <td>0</td>\n",
              "      <td>1835328873</td>\n",
              "      <td>Mon May 18 05:44:09 PDT 2009</td>\n",
              "      <td>NO_QUERY</td>\n",
              "      <td>mysteef</td>\n",
              "      <td>Just one hour 2 go.... what a week Only saturd...</td>\n",
              "    </tr>\n",
              "    <tr>\n",
              "      <th>88046</th>\n",
              "      <td>0</td>\n",
              "      <td>1754706462</td>\n",
              "      <td>Sun May 10 07:08:15 PDT 2009</td>\n",
              "      <td>NO_QUERY</td>\n",
              "      <td>sophieprisco</td>\n",
              "      <td>@rubylux I would guys if i was in London.</td>\n",
              "    </tr>\n",
              "    <tr>\n",
              "      <th>49930</th>\n",
              "      <td>0</td>\n",
              "      <td>1678313542</td>\n",
              "      <td>Sat May 02 06:17:39 PDT 2009</td>\n",
              "      <td>NO_QUERY</td>\n",
              "      <td>pr1001</td>\n",
              "      <td>I suck at making widgets, Opera keeps rejectin...</td>\n",
              "    </tr>\n",
              "    <tr>\n",
              "      <th>111420</th>\n",
              "      <td>0</td>\n",
              "      <td>1825121907</td>\n",
              "      <td>Sun May 17 04:26:30 PDT 2009</td>\n",
              "      <td>NO_QUERY</td>\n",
              "      <td>Cins13</td>\n",
              "      <td>I have a Killer hangover today</td>\n",
              "    </tr>\n",
              "    <tr>\n",
              "      <th>131275</th>\n",
              "      <td>0</td>\n",
              "      <td>1835496457</td>\n",
              "      <td>Mon May 18 06:07:29 PDT 2009</td>\n",
              "      <td>NO_QUERY</td>\n",
              "      <td>aureliegomez</td>\n",
              "      <td>hates Jules Ferry to the max, for making schoo...</td>\n",
              "    </tr>\n",
              "    <tr>\n",
              "      <th>48415</th>\n",
              "      <td>0</td>\n",
              "      <td>1677869917</td>\n",
              "      <td>Sat May 02 04:25:26 PDT 2009</td>\n",
              "      <td>NO_QUERY</td>\n",
              "      <td>AndyCorney</td>\n",
              "      <td>@munrodouglas I agree. Warehouse have a modell...</td>\n",
              "    </tr>\n",
              "    <tr>\n",
              "      <th>166189</th>\n",
              "      <td>0</td>\n",
              "      <td>1961178216</td>\n",
              "      <td>Fri May 29 09:06:09 PDT 2009</td>\n",
              "      <td>NO_QUERY</td>\n",
              "      <td>ExotikGoddess</td>\n",
              "      <td>Soo tired, couldn't get enough sleep</td>\n",
              "    </tr>\n",
              "    <tr>\n",
              "      <th>159032</th>\n",
              "      <td>0</td>\n",
              "      <td>1956743619</td>\n",
              "      <td>Thu May 28 22:34:47 PDT 2009</td>\n",
              "      <td>NO_QUERY</td>\n",
              "      <td>marcmez</td>\n",
              "      <td>hard day  hay wackos you can also stock me on ...</td>\n",
              "    </tr>\n",
              "    <tr>\n",
              "      <th>113626</th>\n",
              "      <td>0</td>\n",
              "      <td>1825905335</td>\n",
              "      <td>Sun May 17 07:10:53 PDT 2009</td>\n",
              "      <td>NO_QUERY</td>\n",
              "      <td>bennluis</td>\n",
              "      <td>I hate eating mcdonald's but i'm so hungry ha</td>\n",
              "    </tr>\n",
              "    <tr>\n",
              "      <th>78666</th>\n",
              "      <td>0</td>\n",
              "      <td>1751465068</td>\n",
              "      <td>Sat May 09 19:30:49 PDT 2009</td>\n",
              "      <td>NO_QUERY</td>\n",
              "      <td>joshieeeeeee</td>\n",
              "      <td>Oy... i'm feeling fat... need to work out more</td>\n",
              "    </tr>\n",
              "  </tbody>\n",
              "</table>\n",
              "</div>"
            ],
            "text/plain": [
              "        0  ...  @switchfoot http://twitpic.com/2y1zl - Awww, that's a bummer.  You shoulda got David Carr of Third Day to do it. ;D\n",
              "130525  0  ...  Just one hour 2 go.... what a week Only saturd...                                                                  \n",
              "88046   0  ...         @rubylux I would guys if i was in London.                                                                   \n",
              "49930   0  ...  I suck at making widgets, Opera keeps rejectin...                                                                  \n",
              "111420  0  ...                    I have a Killer hangover today                                                                   \n",
              "131275  0  ...  hates Jules Ferry to the max, for making schoo...                                                                  \n",
              "48415   0  ...  @munrodouglas I agree. Warehouse have a modell...                                                                  \n",
              "166189  0  ...              Soo tired, couldn't get enough sleep                                                                   \n",
              "159032  0  ...  hard day  hay wackos you can also stock me on ...                                                                  \n",
              "113626  0  ...     I hate eating mcdonald's but i'm so hungry ha                                                                   \n",
              "78666   0  ...    Oy... i'm feeling fat... need to work out more                                                                   \n",
              "\n",
              "[10 rows x 6 columns]"
            ]
          },
          "metadata": {
            "tags": []
          },
          "execution_count": 7
        }
      ]
    },
    {
      "cell_type": "code",
      "metadata": {
        "id": "fKrFegl9Ydmx",
        "outputId": "87b12798-9095-475e-f339-70e44fb40246",
        "colab": {
          "base_uri": "https://localhost:8080/",
          "height": 374
        }
      },
      "source": [
        "#data.tail()"
      ],
      "execution_count": null,
      "outputs": [
        {
          "output_type": "execute_result",
          "data": {
            "text/html": [
              "<div>\n",
              "<style scoped>\n",
              "    .dataframe tbody tr th:only-of-type {\n",
              "        vertical-align: middle;\n",
              "    }\n",
              "\n",
              "    .dataframe tbody tr th {\n",
              "        vertical-align: top;\n",
              "    }\n",
              "\n",
              "    .dataframe thead th {\n",
              "        text-align: right;\n",
              "    }\n",
              "</style>\n",
              "<table border=\"1\" class=\"dataframe\">\n",
              "  <thead>\n",
              "    <tr style=\"text-align: right;\">\n",
              "      <th></th>\n",
              "      <th>0</th>\n",
              "      <th>1467810369</th>\n",
              "      <th>Mon Apr 06 22:19:45 PDT 2009</th>\n",
              "      <th>NO_QUERY</th>\n",
              "      <th>_TheSpecialOne_</th>\n",
              "      <th>@switchfoot http://twitpic.com/2y1zl - Awww, that's a bummer.  You shoulda got David Carr of Third Day to do it. ;D</th>\n",
              "    </tr>\n",
              "  </thead>\n",
              "  <tbody>\n",
              "    <tr>\n",
              "      <th>175518</th>\n",
              "      <td>0</td>\n",
              "      <td>1964867345</td>\n",
              "      <td>Fri May 29 14:56:24 PDT 2009</td>\n",
              "      <td>NO_QUERY</td>\n",
              "      <td>OneCoolFish</td>\n",
              "      <td>@kiyoshimartinez - 05/31 marks the end of our ...</td>\n",
              "    </tr>\n",
              "    <tr>\n",
              "      <th>175519</th>\n",
              "      <td>0</td>\n",
              "      <td>1964867828</td>\n",
              "      <td>Fri May 29 14:56:27 PDT 2009</td>\n",
              "      <td>NO_QUERY</td>\n",
              "      <td>Chippewa29</td>\n",
              "      <td>@binhog737 Sorry about the weather, hopefully ...</td>\n",
              "    </tr>\n",
              "    <tr>\n",
              "      <th>175520</th>\n",
              "      <td>0</td>\n",
              "      <td>1964867856</td>\n",
              "      <td>Fri May 29 14:56:27 PDT 2009</td>\n",
              "      <td>NO_QUERY</td>\n",
              "      <td>VForIvan</td>\n",
              "      <td>Just got back from working out. I'm feeling pr...</td>\n",
              "    </tr>\n",
              "    <tr>\n",
              "      <th>175521</th>\n",
              "      <td>0</td>\n",
              "      <td>1964868310</td>\n",
              "      <td>Fri May 29 14:56:30 PDT 2009</td>\n",
              "      <td>NO_QUERY</td>\n",
              "      <td>amandak06</td>\n",
              "      <td>i'm sad...i'll miss you grandma angie.. you we...</td>\n",
              "    </tr>\n",
              "    <tr>\n",
              "      <th>175522</th>\n",
              "      <td>0</td>\n",
              "      <td>1964868446</td>\n",
              "      <td>NaN</td>\n",
              "      <td>NaN</td>\n",
              "      <td>NaN</td>\n",
              "      <td>NaN</td>\n",
              "    </tr>\n",
              "  </tbody>\n",
              "</table>\n",
              "</div>"
            ],
            "text/plain": [
              "        0  ...  @switchfoot http://twitpic.com/2y1zl - Awww, that's a bummer.  You shoulda got David Carr of Third Day to do it. ;D\n",
              "175518  0  ...  @kiyoshimartinez - 05/31 marks the end of our ...                                                                  \n",
              "175519  0  ...  @binhog737 Sorry about the weather, hopefully ...                                                                  \n",
              "175520  0  ...  Just got back from working out. I'm feeling pr...                                                                  \n",
              "175521  0  ...  i'm sad...i'll miss you grandma angie.. you we...                                                                  \n",
              "175522  0  ...                                                NaN                                                                  \n",
              "\n",
              "[5 rows x 6 columns]"
            ]
          },
          "metadata": {
            "tags": []
          },
          "execution_count": 8
        }
      ]
    },
    {
      "cell_type": "code",
      "metadata": {
        "id": "sHkQL1GGYqw3",
        "outputId": "fb3f027d-87e2-41ba-eb33-7a2fea7ca016",
        "colab": {
          "base_uri": "https://localhost:8080/",
          "height": 83
        }
      },
      "source": [
        "#data[data['0']==4]"
      ],
      "execution_count": null,
      "outputs": [
        {
          "output_type": "execute_result",
          "data": {
            "text/html": [
              "<div>\n",
              "<style scoped>\n",
              "    .dataframe tbody tr th:only-of-type {\n",
              "        vertical-align: middle;\n",
              "    }\n",
              "\n",
              "    .dataframe tbody tr th {\n",
              "        vertical-align: top;\n",
              "    }\n",
              "\n",
              "    .dataframe thead th {\n",
              "        text-align: right;\n",
              "    }\n",
              "</style>\n",
              "<table border=\"1\" class=\"dataframe\">\n",
              "  <thead>\n",
              "    <tr style=\"text-align: right;\">\n",
              "      <th></th>\n",
              "      <th>0</th>\n",
              "      <th>1467810369</th>\n",
              "      <th>Mon Apr 06 22:19:45 PDT 2009</th>\n",
              "      <th>NO_QUERY</th>\n",
              "      <th>_TheSpecialOne_</th>\n",
              "      <th>@switchfoot http://twitpic.com/2y1zl - Awww, that's a bummer.  You shoulda got David Carr of Third Day to do it. ;D</th>\n",
              "    </tr>\n",
              "  </thead>\n",
              "  <tbody>\n",
              "  </tbody>\n",
              "</table>\n",
              "</div>"
            ],
            "text/plain": [
              "Empty DataFrame\n",
              "Columns: [0, 1467810369, Mon Apr 06 22:19:45 PDT 2009, NO_QUERY, _TheSpecialOne_, @switchfoot http://twitpic.com/2y1zl - Awww, that's a bummer.  You shoulda got David Carr of Third Day to do it. ;D]\n",
              "Index: []"
            ]
          },
          "metadata": {
            "tags": []
          },
          "execution_count": 13
        }
      ]
    },
    {
      "cell_type": "code",
      "metadata": {
        "id": "-jT9Qb0kYvxm",
        "outputId": "39d9dc51-9b69-4d93-f55b-71ee28ebc49f",
        "colab": {
          "base_uri": "https://localhost:8080/",
          "height": 759
        }
      },
      "source": [
        "#data"
      ],
      "execution_count": null,
      "outputs": [
        {
          "output_type": "execute_result",
          "data": {
            "text/html": [
              "<div>\n",
              "<style scoped>\n",
              "    .dataframe tbody tr th:only-of-type {\n",
              "        vertical-align: middle;\n",
              "    }\n",
              "\n",
              "    .dataframe tbody tr th {\n",
              "        vertical-align: top;\n",
              "    }\n",
              "\n",
              "    .dataframe thead th {\n",
              "        text-align: right;\n",
              "    }\n",
              "</style>\n",
              "<table border=\"1\" class=\"dataframe\">\n",
              "  <thead>\n",
              "    <tr style=\"text-align: right;\">\n",
              "      <th></th>\n",
              "      <th>0</th>\n",
              "      <th>1467810369</th>\n",
              "      <th>Mon Apr 06 22:19:45 PDT 2009</th>\n",
              "      <th>NO_QUERY</th>\n",
              "      <th>_TheSpecialOne_</th>\n",
              "      <th>@switchfoot http://twitpic.com/2y1zl - Awww, that's a bummer.  You shoulda got David Carr of Third Day to do it. ;D</th>\n",
              "    </tr>\n",
              "  </thead>\n",
              "  <tbody>\n",
              "    <tr>\n",
              "      <th>0</th>\n",
              "      <td>0</td>\n",
              "      <td>1467810672</td>\n",
              "      <td>Mon Apr 06 22:19:49 PDT 2009</td>\n",
              "      <td>NO_QUERY</td>\n",
              "      <td>scotthamilton</td>\n",
              "      <td>is upset that he can't update his Facebook by ...</td>\n",
              "    </tr>\n",
              "    <tr>\n",
              "      <th>1</th>\n",
              "      <td>0</td>\n",
              "      <td>1467810917</td>\n",
              "      <td>Mon Apr 06 22:19:53 PDT 2009</td>\n",
              "      <td>NO_QUERY</td>\n",
              "      <td>mattycus</td>\n",
              "      <td>@Kenichan I dived many times for the ball. Man...</td>\n",
              "    </tr>\n",
              "    <tr>\n",
              "      <th>2</th>\n",
              "      <td>0</td>\n",
              "      <td>1467811184</td>\n",
              "      <td>Mon Apr 06 22:19:57 PDT 2009</td>\n",
              "      <td>NO_QUERY</td>\n",
              "      <td>ElleCTF</td>\n",
              "      <td>my whole body feels itchy and like its on fire</td>\n",
              "    </tr>\n",
              "    <tr>\n",
              "      <th>3</th>\n",
              "      <td>0</td>\n",
              "      <td>1467811193</td>\n",
              "      <td>Mon Apr 06 22:19:57 PDT 2009</td>\n",
              "      <td>NO_QUERY</td>\n",
              "      <td>Karoli</td>\n",
              "      <td>@nationwideclass no, it's not behaving at all....</td>\n",
              "    </tr>\n",
              "    <tr>\n",
              "      <th>4</th>\n",
              "      <td>0</td>\n",
              "      <td>1467811372</td>\n",
              "      <td>Mon Apr 06 22:20:00 PDT 2009</td>\n",
              "      <td>NO_QUERY</td>\n",
              "      <td>joy_wolf</td>\n",
              "      <td>@Kwesidei not the whole crew</td>\n",
              "    </tr>\n",
              "    <tr>\n",
              "      <th>...</th>\n",
              "      <td>...</td>\n",
              "      <td>...</td>\n",
              "      <td>...</td>\n",
              "      <td>...</td>\n",
              "      <td>...</td>\n",
              "      <td>...</td>\n",
              "    </tr>\n",
              "    <tr>\n",
              "      <th>175518</th>\n",
              "      <td>0</td>\n",
              "      <td>1964867345</td>\n",
              "      <td>Fri May 29 14:56:24 PDT 2009</td>\n",
              "      <td>NO_QUERY</td>\n",
              "      <td>OneCoolFish</td>\n",
              "      <td>@kiyoshimartinez - 05/31 marks the end of our ...</td>\n",
              "    </tr>\n",
              "    <tr>\n",
              "      <th>175519</th>\n",
              "      <td>0</td>\n",
              "      <td>1964867828</td>\n",
              "      <td>Fri May 29 14:56:27 PDT 2009</td>\n",
              "      <td>NO_QUERY</td>\n",
              "      <td>Chippewa29</td>\n",
              "      <td>@binhog737 Sorry about the weather, hopefully ...</td>\n",
              "    </tr>\n",
              "    <tr>\n",
              "      <th>175520</th>\n",
              "      <td>0</td>\n",
              "      <td>1964867856</td>\n",
              "      <td>Fri May 29 14:56:27 PDT 2009</td>\n",
              "      <td>NO_QUERY</td>\n",
              "      <td>VForIvan</td>\n",
              "      <td>Just got back from working out. I'm feeling pr...</td>\n",
              "    </tr>\n",
              "    <tr>\n",
              "      <th>175521</th>\n",
              "      <td>0</td>\n",
              "      <td>1964868310</td>\n",
              "      <td>Fri May 29 14:56:30 PDT 2009</td>\n",
              "      <td>NO_QUERY</td>\n",
              "      <td>amandak06</td>\n",
              "      <td>i'm sad...i'll miss you grandma angie.. you we...</td>\n",
              "    </tr>\n",
              "    <tr>\n",
              "      <th>175522</th>\n",
              "      <td>0</td>\n",
              "      <td>1964868446</td>\n",
              "      <td>NaN</td>\n",
              "      <td>NaN</td>\n",
              "      <td>NaN</td>\n",
              "      <td>NaN</td>\n",
              "    </tr>\n",
              "  </tbody>\n",
              "</table>\n",
              "<p>175523 rows × 6 columns</p>\n",
              "</div>"
            ],
            "text/plain": [
              "        0  ...  @switchfoot http://twitpic.com/2y1zl - Awww, that's a bummer.  You shoulda got David Carr of Third Day to do it. ;D\n",
              "0       0  ...  is upset that he can't update his Facebook by ...                                                                  \n",
              "1       0  ...  @Kenichan I dived many times for the ball. Man...                                                                  \n",
              "2       0  ...    my whole body feels itchy and like its on fire                                                                   \n",
              "3       0  ...  @nationwideclass no, it's not behaving at all....                                                                  \n",
              "4       0  ...                      @Kwesidei not the whole crew                                                                   \n",
              "...    ..  ...                                                ...                                                                  \n",
              "175518  0  ...  @kiyoshimartinez - 05/31 marks the end of our ...                                                                  \n",
              "175519  0  ...  @binhog737 Sorry about the weather, hopefully ...                                                                  \n",
              "175520  0  ...  Just got back from working out. I'm feeling pr...                                                                  \n",
              "175521  0  ...  i'm sad...i'll miss you grandma angie.. you we...                                                                  \n",
              "175522  0  ...                                                NaN                                                                  \n",
              "\n",
              "[175523 rows x 6 columns]"
            ]
          },
          "metadata": {
            "tags": []
          },
          "execution_count": 14
        }
      ]
    },
    {
      "cell_type": "code",
      "metadata": {
        "id": "HbXw1aQqY84b"
      },
      "source": [
        "data=[]"
      ],
      "execution_count": null,
      "outputs": []
    },
    {
      "cell_type": "code",
      "metadata": {
        "id": "RUIf3ohGgvF3"
      },
      "source": [
        "data = pd.read_csv('/content/twitter-headless-pos-neg-tweet.txt', sep='\\t', quoting=csv.QUOTE_NONE, engine='python', header=None, names=['pos','neg','tweet'])"
      ],
      "execution_count": null,
      "outputs": []
    },
    {
      "cell_type": "code",
      "metadata": {
        "id": "bFzIHytBg0NZ"
      },
      "source": [
        "import csv"
      ],
      "execution_count": null,
      "outputs": []
    },
    {
      "cell_type": "code",
      "metadata": {
        "id": "1eM3uPqYzjET",
        "outputId": "2c2feeb8-1513-4ad4-945e-32a4f1916884",
        "colab": {
          "base_uri": "https://localhost:8080/",
          "height": 204
        }
      },
      "source": [
        "data.head()"
      ],
      "execution_count": null,
      "outputs": [
        {
          "output_type": "execute_result",
          "data": {
            "text/html": [
              "<div>\n",
              "<style scoped>\n",
              "    .dataframe tbody tr th:only-of-type {\n",
              "        vertical-align: middle;\n",
              "    }\n",
              "\n",
              "    .dataframe tbody tr th {\n",
              "        vertical-align: top;\n",
              "    }\n",
              "\n",
              "    .dataframe thead th {\n",
              "        text-align: right;\n",
              "    }\n",
              "</style>\n",
              "<table border=\"1\" class=\"dataframe\">\n",
              "  <thead>\n",
              "    <tr style=\"text-align: right;\">\n",
              "      <th></th>\n",
              "      <th>pos</th>\n",
              "      <th>neg</th>\n",
              "      <th>tweet</th>\n",
              "    </tr>\n",
              "  </thead>\n",
              "  <tbody>\n",
              "    <tr>\n",
              "      <th>0</th>\n",
              "      <td>3</td>\n",
              "      <td>2</td>\n",
              "      <td>?RT @justinbiebcr: The bigger the better....if...</td>\n",
              "    </tr>\n",
              "    <tr>\n",
              "      <th>1</th>\n",
              "      <td>3</td>\n",
              "      <td>1</td>\n",
              "      <td>Listening to the \"New Age\" station on @Slacker...</td>\n",
              "    </tr>\n",
              "    <tr>\n",
              "      <th>2</th>\n",
              "      <td>1</td>\n",
              "      <td>1</td>\n",
              "      <td>I favorited a YouTube video -- Drake and Josh ...</td>\n",
              "    </tr>\n",
              "    <tr>\n",
              "      <th>3</th>\n",
              "      <td>4</td>\n",
              "      <td>2</td>\n",
              "      <td>i didnt mean knee high I ment in lengt it goes...</td>\n",
              "    </tr>\n",
              "    <tr>\n",
              "      <th>4</th>\n",
              "      <td>2</td>\n",
              "      <td>1</td>\n",
              "      <td>I wana see the vid Kyan</td>\n",
              "    </tr>\n",
              "  </tbody>\n",
              "</table>\n",
              "</div>"
            ],
            "text/plain": [
              "   pos  neg                                              tweet\n",
              "0    3    2  ?RT @justinbiebcr: The bigger the better....if...\n",
              "1    3    1  Listening to the \"New Age\" station on @Slacker...\n",
              "2    1    1  I favorited a YouTube video -- Drake and Josh ...\n",
              "3    4    2  i didnt mean knee high I ment in lengt it goes...\n",
              "4    2    1                            I wana see the vid Kyan"
            ]
          },
          "metadata": {
            "tags": []
          },
          "execution_count": 10
        }
      ]
    },
    {
      "cell_type": "code",
      "metadata": {
        "id": "PPDG1imFzrEc",
        "outputId": "3e6cf503-2885-456f-b1da-ed9f0539e3c7",
        "colab": {
          "base_uri": "https://localhost:8080/",
          "height": 419
        }
      },
      "source": [
        "data"
      ],
      "execution_count": null,
      "outputs": [
        {
          "output_type": "execute_result",
          "data": {
            "text/html": [
              "<div>\n",
              "<style scoped>\n",
              "    .dataframe tbody tr th:only-of-type {\n",
              "        vertical-align: middle;\n",
              "    }\n",
              "\n",
              "    .dataframe tbody tr th {\n",
              "        vertical-align: top;\n",
              "    }\n",
              "\n",
              "    .dataframe thead th {\n",
              "        text-align: right;\n",
              "    }\n",
              "</style>\n",
              "<table border=\"1\" class=\"dataframe\">\n",
              "  <thead>\n",
              "    <tr style=\"text-align: right;\">\n",
              "      <th></th>\n",
              "      <th>pos</th>\n",
              "      <th>neg</th>\n",
              "      <th>tweet</th>\n",
              "    </tr>\n",
              "  </thead>\n",
              "  <tbody>\n",
              "    <tr>\n",
              "      <th>0</th>\n",
              "      <td>3</td>\n",
              "      <td>2</td>\n",
              "      <td>?RT @justinbiebcr: The bigger the better....if...</td>\n",
              "    </tr>\n",
              "    <tr>\n",
              "      <th>1</th>\n",
              "      <td>3</td>\n",
              "      <td>1</td>\n",
              "      <td>Listening to the \"New Age\" station on @Slacker...</td>\n",
              "    </tr>\n",
              "    <tr>\n",
              "      <th>2</th>\n",
              "      <td>1</td>\n",
              "      <td>1</td>\n",
              "      <td>I favorited a YouTube video -- Drake and Josh ...</td>\n",
              "    </tr>\n",
              "    <tr>\n",
              "      <th>3</th>\n",
              "      <td>4</td>\n",
              "      <td>2</td>\n",
              "      <td>i didnt mean knee high I ment in lengt it goes...</td>\n",
              "    </tr>\n",
              "    <tr>\n",
              "      <th>4</th>\n",
              "      <td>2</td>\n",
              "      <td>1</td>\n",
              "      <td>I wana see the vid Kyan</td>\n",
              "    </tr>\n",
              "    <tr>\n",
              "      <th>...</th>\n",
              "      <td>...</td>\n",
              "      <td>...</td>\n",
              "      <td>...</td>\n",
              "    </tr>\n",
              "    <tr>\n",
              "      <th>4237</th>\n",
              "      <td>1</td>\n",
              "      <td>1</td>\n",
              "      <td>So far, i'm seeing the opposite of what you're...</td>\n",
              "    </tr>\n",
              "    <tr>\n",
              "      <th>4238</th>\n",
              "      <td>1</td>\n",
              "      <td>1</td>\n",
              "      <td>RT @Nescreation I'm Yours w/ hearts Ladies Cam...</td>\n",
              "    </tr>\n",
              "    <tr>\n",
              "      <th>4239</th>\n",
              "      <td>3</td>\n",
              "      <td>1</td>\n",
              "      <td>RT @JoseCarol: If you fall, GET UP!, if you're...</td>\n",
              "    </tr>\n",
              "    <tr>\n",
              "      <th>4240</th>\n",
              "      <td>1</td>\n",
              "      <td>2</td>\n",
              "      <td>@MakikiGirl I'm giving my 2 Japanese Chins a b...</td>\n",
              "    </tr>\n",
              "    <tr>\n",
              "      <th>4241</th>\n",
              "      <td>1</td>\n",
              "      <td>1</td>\n",
              "      <td>T-Mobile USA Says They Ditched Yahoo For Googl...</td>\n",
              "    </tr>\n",
              "  </tbody>\n",
              "</table>\n",
              "<p>4242 rows × 3 columns</p>\n",
              "</div>"
            ],
            "text/plain": [
              "      pos  neg                                              tweet\n",
              "0       3    2  ?RT @justinbiebcr: The bigger the better....if...\n",
              "1       3    1  Listening to the \"New Age\" station on @Slacker...\n",
              "2       1    1  I favorited a YouTube video -- Drake and Josh ...\n",
              "3       4    2  i didnt mean knee high I ment in lengt it goes...\n",
              "4       2    1                            I wana see the vid Kyan\n",
              "...   ...  ...                                                ...\n",
              "4237    1    1  So far, i'm seeing the opposite of what you're...\n",
              "4238    1    1  RT @Nescreation I'm Yours w/ hearts Ladies Cam...\n",
              "4239    3    1  RT @JoseCarol: If you fall, GET UP!, if you're...\n",
              "4240    1    2  @MakikiGirl I'm giving my 2 Japanese Chins a b...\n",
              "4241    1    1  T-Mobile USA Says They Ditched Yahoo For Googl...\n",
              "\n",
              "[4242 rows x 3 columns]"
            ]
          },
          "metadata": {
            "tags": []
          },
          "execution_count": 11
        }
      ]
    },
    {
      "cell_type": "code",
      "metadata": {
        "id": "ogSKvl21zryo"
      },
      "source": [
        "data['sentiment'] = data['pos'].astype(int) - data['neg'].astype(int)"
      ],
      "execution_count": null,
      "outputs": []
    },
    {
      "cell_type": "code",
      "metadata": {
        "id": "T-b_ubdtz5Eq",
        "outputId": "0cd972b7-a651-4935-cb02-846e9ba81879",
        "colab": {
          "base_uri": "https://localhost:8080/",
          "height": 204
        }
      },
      "source": [
        "data.sample(5)"
      ],
      "execution_count": null,
      "outputs": [
        {
          "output_type": "execute_result",
          "data": {
            "text/html": [
              "<div>\n",
              "<style scoped>\n",
              "    .dataframe tbody tr th:only-of-type {\n",
              "        vertical-align: middle;\n",
              "    }\n",
              "\n",
              "    .dataframe tbody tr th {\n",
              "        vertical-align: top;\n",
              "    }\n",
              "\n",
              "    .dataframe thead th {\n",
              "        text-align: right;\n",
              "    }\n",
              "</style>\n",
              "<table border=\"1\" class=\"dataframe\">\n",
              "  <thead>\n",
              "    <tr style=\"text-align: right;\">\n",
              "      <th></th>\n",
              "      <th>pos</th>\n",
              "      <th>neg</th>\n",
              "      <th>tweet</th>\n",
              "      <th>sentiment</th>\n",
              "    </tr>\n",
              "  </thead>\n",
              "  <tbody>\n",
              "    <tr>\n",
              "      <th>1650</th>\n",
              "      <td>3</td>\n",
              "      <td>1</td>\n",
              "      <td>today, i want to study hard because tommorow t...</td>\n",
              "      <td>2</td>\n",
              "    </tr>\n",
              "    <tr>\n",
              "      <th>2356</th>\n",
              "      <td>1</td>\n",
              "      <td>1</td>\n",
              "      <td>Listening to @mikeposner One Foot Out The Door...</td>\n",
              "      <td>0</td>\n",
              "    </tr>\n",
              "    <tr>\n",
              "      <th>3000</th>\n",
              "      <td>1</td>\n",
              "      <td>1</td>\n",
              "      <td>Various Artists - Almost Alice: A great idea s...</td>\n",
              "      <td>0</td>\n",
              "    </tr>\n",
              "    <tr>\n",
              "      <th>861</th>\n",
              "      <td>1</td>\n",
              "      <td>1</td>\n",
              "      <td>Update: Brief Tampa interview with Allison and...</td>\n",
              "      <td>0</td>\n",
              "    </tr>\n",
              "    <tr>\n",
              "      <th>317</th>\n",
              "      <td>1</td>\n",
              "      <td>1</td>\n",
              "      <td>@shannonelizab http://twitpic.com/12m5z6 - hur...</td>\n",
              "      <td>0</td>\n",
              "    </tr>\n",
              "  </tbody>\n",
              "</table>\n",
              "</div>"
            ],
            "text/plain": [
              "      pos  neg                                              tweet  sentiment\n",
              "1650    3    1  today, i want to study hard because tommorow t...          2\n",
              "2356    1    1  Listening to @mikeposner One Foot Out The Door...          0\n",
              "3000    1    1  Various Artists - Almost Alice: A great idea s...          0\n",
              "861     1    1  Update: Brief Tampa interview with Allison and...          0\n",
              "317     1    1  @shannonelizab http://twitpic.com/12m5z6 - hur...          0"
            ]
          },
          "metadata": {
            "tags": []
          },
          "execution_count": 14
        }
      ]
    },
    {
      "cell_type": "code",
      "metadata": {
        "id": "9iG7tkd6z6U2"
      },
      "source": [
        "def flatten_sentiment(n):\n",
        "  if n:\n",
        "    if n>0:\n",
        "      return 1\n",
        "    else:\n",
        "      return -1\n",
        "  else:\n",
        "    return 0"
      ],
      "execution_count": null,
      "outputs": []
    },
    {
      "cell_type": "code",
      "metadata": {
        "id": "CmWCSv110Uhd",
        "outputId": "1c8a21d5-a448-4db4-c5f3-6fde599dcb47",
        "colab": {
          "base_uri": "https://localhost:8080/"
        }
      },
      "source": [
        "flatten_sentiment(2)"
      ],
      "execution_count": null,
      "outputs": [
        {
          "output_type": "execute_result",
          "data": {
            "text/plain": [
              "1"
            ]
          },
          "metadata": {
            "tags": []
          },
          "execution_count": 16
        }
      ]
    },
    {
      "cell_type": "code",
      "metadata": {
        "id": "NQNxfQuo0YFU",
        "outputId": "5271e599-a1ad-4281-9c82-9e84fd56affb",
        "colab": {
          "base_uri": "https://localhost:8080/"
        }
      },
      "source": [
        "flatten_sentiment(0)"
      ],
      "execution_count": null,
      "outputs": [
        {
          "output_type": "execute_result",
          "data": {
            "text/plain": [
              "0"
            ]
          },
          "metadata": {
            "tags": []
          },
          "execution_count": 17
        }
      ]
    },
    {
      "cell_type": "code",
      "metadata": {
        "id": "ALVitNxM0Y59",
        "outputId": "3f2d87cb-0be5-4e1d-9534-3c00e0252c1e",
        "colab": {
          "base_uri": "https://localhost:8080/"
        }
      },
      "source": [
        "flatten_sentiment(-3)"
      ],
      "execution_count": null,
      "outputs": [
        {
          "output_type": "execute_result",
          "data": {
            "text/plain": [
              "-1"
            ]
          },
          "metadata": {
            "tags": []
          },
          "execution_count": 18
        }
      ]
    },
    {
      "cell_type": "code",
      "metadata": {
        "id": "OITKMz4g0Z9t"
      },
      "source": [
        "data['sent'] = data['sentiment'].map(flatten_sentiment)"
      ],
      "execution_count": null,
      "outputs": []
    },
    {
      "cell_type": "code",
      "metadata": {
        "id": "Xr9TaGzJ0lH1",
        "outputId": "3bb86c20-1346-4b06-98af-1746c1b308c2",
        "colab": {
          "base_uri": "https://localhost:8080/",
          "height": 359
        }
      },
      "source": [
        "data.sample(10)"
      ],
      "execution_count": null,
      "outputs": [
        {
          "output_type": "execute_result",
          "data": {
            "text/html": [
              "<div>\n",
              "<style scoped>\n",
              "    .dataframe tbody tr th:only-of-type {\n",
              "        vertical-align: middle;\n",
              "    }\n",
              "\n",
              "    .dataframe tbody tr th {\n",
              "        vertical-align: top;\n",
              "    }\n",
              "\n",
              "    .dataframe thead th {\n",
              "        text-align: right;\n",
              "    }\n",
              "</style>\n",
              "<table border=\"1\" class=\"dataframe\">\n",
              "  <thead>\n",
              "    <tr style=\"text-align: right;\">\n",
              "      <th></th>\n",
              "      <th>pos</th>\n",
              "      <th>neg</th>\n",
              "      <th>tweet</th>\n",
              "      <th>sentiment</th>\n",
              "      <th>sent</th>\n",
              "    </tr>\n",
              "  </thead>\n",
              "  <tbody>\n",
              "    <tr>\n",
              "      <th>3526</th>\n",
              "      <td>1</td>\n",
              "      <td>1</td>\n",
              "      <td>RT @mousavifacebook: http://fb.me/631Zf3I</td>\n",
              "      <td>0</td>\n",
              "      <td>0</td>\n",
              "    </tr>\n",
              "    <tr>\n",
              "      <th>384</th>\n",
              "      <td>1</td>\n",
              "      <td>3</td>\n",
              "      <td>Tbh I'm rarther pissed off, just wana get out ...</td>\n",
              "      <td>-2</td>\n",
              "      <td>-1</td>\n",
              "    </tr>\n",
              "    <tr>\n",
              "      <th>1999</th>\n",
              "      <td>1</td>\n",
              "      <td>1</td>\n",
              "      <td>RT @dealiodeals: Billion Dollar Babes Sale- Sa...</td>\n",
              "      <td>0</td>\n",
              "      <td>0</td>\n",
              "    </tr>\n",
              "    <tr>\n",
              "      <th>2422</th>\n",
              "      <td>1</td>\n",
              "      <td>4</td>\n",
              "      <td>@simplyme4you so? you always make tweets about...</td>\n",
              "      <td>-3</td>\n",
              "      <td>-1</td>\n",
              "    </tr>\n",
              "    <tr>\n",
              "      <th>355</th>\n",
              "      <td>2</td>\n",
              "      <td>3</td>\n",
              "      <td>bad weather on holiday X( X( have nothing but ...</td>\n",
              "      <td>-1</td>\n",
              "      <td>-1</td>\n",
              "    </tr>\n",
              "    <tr>\n",
              "      <th>2200</th>\n",
              "      <td>2</td>\n",
              "      <td>1</td>\n",
              "      <td>RT @StarCreations: RT @dutchfeltart @GlassRive...</td>\n",
              "      <td>1</td>\n",
              "      <td>1</td>\n",
              "    </tr>\n",
              "    <tr>\n",
              "      <th>2518</th>\n",
              "      <td>2</td>\n",
              "      <td>1</td>\n",
              "      <td>taking a break from crazy packing to watch 2012.</td>\n",
              "      <td>1</td>\n",
              "      <td>1</td>\n",
              "    </tr>\n",
              "    <tr>\n",
              "      <th>296</th>\n",
              "      <td>2</td>\n",
              "      <td>1</td>\n",
              "      <td>RT @AbonThoughts: Fist pumping my small Asian ...</td>\n",
              "      <td>1</td>\n",
              "      <td>1</td>\n",
              "    </tr>\n",
              "    <tr>\n",
              "      <th>1591</th>\n",
              "      <td>4</td>\n",
              "      <td>3</td>\n",
              "      <td>@nathanielr It's not about GRIEF, but about ho...</td>\n",
              "      <td>1</td>\n",
              "      <td>1</td>\n",
              "    </tr>\n",
              "    <tr>\n",
              "      <th>4101</th>\n",
              "      <td>2</td>\n",
              "      <td>1</td>\n",
              "      <td>Sent me to the camp. I overcame all da courses...</td>\n",
              "      <td>1</td>\n",
              "      <td>1</td>\n",
              "    </tr>\n",
              "  </tbody>\n",
              "</table>\n",
              "</div>"
            ],
            "text/plain": [
              "      pos  neg  ... sentiment  sent\n",
              "3526    1    1  ...         0     0\n",
              "384     1    3  ...        -2    -1\n",
              "1999    1    1  ...         0     0\n",
              "2422    1    4  ...        -3    -1\n",
              "355     2    3  ...        -1    -1\n",
              "2200    2    1  ...         1     1\n",
              "2518    2    1  ...         1     1\n",
              "296     2    1  ...         1     1\n",
              "1591    4    3  ...         1     1\n",
              "4101    2    1  ...         1     1\n",
              "\n",
              "[10 rows x 5 columns]"
            ]
          },
          "metadata": {
            "tags": []
          },
          "execution_count": 20
        }
      ]
    },
    {
      "cell_type": "code",
      "metadata": {
        "id": "1Z_HGmPm0mmP"
      },
      "source": [
        "data_ = data[['tweet','sent']]"
      ],
      "execution_count": null,
      "outputs": []
    },
    {
      "cell_type": "code",
      "metadata": {
        "id": "Gq-b4gwL0vTB",
        "outputId": "44f22d5d-239d-4b20-eb03-ee6903ea6620",
        "colab": {
          "base_uri": "https://localhost:8080/",
          "height": 359
        }
      },
      "source": [
        "data_.sample(10)"
      ],
      "execution_count": null,
      "outputs": [
        {
          "output_type": "execute_result",
          "data": {
            "text/html": [
              "<div>\n",
              "<style scoped>\n",
              "    .dataframe tbody tr th:only-of-type {\n",
              "        vertical-align: middle;\n",
              "    }\n",
              "\n",
              "    .dataframe tbody tr th {\n",
              "        vertical-align: top;\n",
              "    }\n",
              "\n",
              "    .dataframe thead th {\n",
              "        text-align: right;\n",
              "    }\n",
              "</style>\n",
              "<table border=\"1\" class=\"dataframe\">\n",
              "  <thead>\n",
              "    <tr style=\"text-align: right;\">\n",
              "      <th></th>\n",
              "      <th>tweet</th>\n",
              "      <th>sent</th>\n",
              "    </tr>\n",
              "  </thead>\n",
              "  <tbody>\n",
              "    <tr>\n",
              "      <th>881</th>\n",
              "      <td>RT @marlonlwayans: #lilduvalsarmsso short he d...</td>\n",
              "      <td>-1</td>\n",
              "    </tr>\n",
              "    <tr>\n",
              "      <th>4158</th>\n",
              "      <td>biggie biggie biggie cant you see.. i love tha...</td>\n",
              "      <td>1</td>\n",
              "    </tr>\n",
              "    <tr>\n",
              "      <th>2944</th>\n",
              "      <td>BE HER THEN!! RT @MagnificentVee: @FARFROMbasi...</td>\n",
              "      <td>1</td>\n",
              "    </tr>\n",
              "    <tr>\n",
              "      <th>3703</th>\n",
              "      <td>Eu acabei de comprar um Water Lily Lamp no Sta...</td>\n",
              "      <td>0</td>\n",
              "    </tr>\n",
              "    <tr>\n",
              "      <th>3860</th>\n",
              "      <td>I love @alfredapp..seriously..check this out.</td>\n",
              "      <td>1</td>\n",
              "    </tr>\n",
              "    <tr>\n",
              "      <th>1693</th>\n",
              "      <td>@mwhi I'd pay handsomely for an autographed copy.</td>\n",
              "      <td>1</td>\n",
              "    </tr>\n",
              "    <tr>\n",
              "      <th>757</th>\n",
              "      <td>White Knight Chronicles: Possibly one of the w...</td>\n",
              "      <td>-1</td>\n",
              "    </tr>\n",
              "    <tr>\n",
              "      <th>1262</th>\n",
              "      <td>Why cant I ever wake up n say \"good morning ev...</td>\n",
              "      <td>-1</td>\n",
              "    </tr>\n",
              "    <tr>\n",
              "      <th>2149</th>\n",
              "      <td>@docbrite Wow! I never noticed that EITHER! Wo...</td>\n",
              "      <td>-1</td>\n",
              "    </tr>\n",
              "    <tr>\n",
              "      <th>2624</th>\n",
              "      <td>Just because I like girls doesn't mean I like ...</td>\n",
              "      <td>-1</td>\n",
              "    </tr>\n",
              "  </tbody>\n",
              "</table>\n",
              "</div>"
            ],
            "text/plain": [
              "                                                  tweet  sent\n",
              "881   RT @marlonlwayans: #lilduvalsarmsso short he d...    -1\n",
              "4158  biggie biggie biggie cant you see.. i love tha...     1\n",
              "2944  BE HER THEN!! RT @MagnificentVee: @FARFROMbasi...     1\n",
              "3703  Eu acabei de comprar um Water Lily Lamp no Sta...     0\n",
              "3860      I love @alfredapp..seriously..check this out.     1\n",
              "1693  @mwhi I'd pay handsomely for an autographed copy.     1\n",
              "757   White Knight Chronicles: Possibly one of the w...    -1\n",
              "1262  Why cant I ever wake up n say \"good morning ev...    -1\n",
              "2149  @docbrite Wow! I never noticed that EITHER! Wo...    -1\n",
              "2624  Just because I like girls doesn't mean I like ...    -1"
            ]
          },
          "metadata": {
            "tags": []
          },
          "execution_count": 22
        }
      ]
    },
    {
      "cell_type": "code",
      "metadata": {
        "id": "758WaQrl04e4"
      },
      "source": [
        "data_.to_csv('tweet_with_sentiment.csv', index=False)"
      ],
      "execution_count": null,
      "outputs": []
    },
    {
      "cell_type": "code",
      "metadata": {
        "id": "0Vpen6Po1Le7"
      },
      "source": [
        "data__ = pd.read_csv('tweet_with_sentiment.csv')"
      ],
      "execution_count": null,
      "outputs": []
    },
    {
      "cell_type": "code",
      "metadata": {
        "id": "m3QByr9u1xmF",
        "outputId": "27a899e8-b678-4a2a-c468-54bf473cbbce",
        "colab": {
          "base_uri": "https://localhost:8080/",
          "height": 204
        }
      },
      "source": [
        "data__.sample(5)"
      ],
      "execution_count": null,
      "outputs": [
        {
          "output_type": "execute_result",
          "data": {
            "text/html": [
              "<div>\n",
              "<style scoped>\n",
              "    .dataframe tbody tr th:only-of-type {\n",
              "        vertical-align: middle;\n",
              "    }\n",
              "\n",
              "    .dataframe tbody tr th {\n",
              "        vertical-align: top;\n",
              "    }\n",
              "\n",
              "    .dataframe thead th {\n",
              "        text-align: right;\n",
              "    }\n",
              "</style>\n",
              "<table border=\"1\" class=\"dataframe\">\n",
              "  <thead>\n",
              "    <tr style=\"text-align: right;\">\n",
              "      <th></th>\n",
              "      <th>tweet</th>\n",
              "      <th>sent</th>\n",
              "    </tr>\n",
              "  </thead>\n",
              "  <tbody>\n",
              "    <tr>\n",
              "      <th>3235</th>\n",
              "      <td>RT @MonStarMimz: RT @violetnight: F A S H I O ...</td>\n",
              "      <td>-1</td>\n",
              "    </tr>\n",
              "    <tr>\n",
              "      <th>2163</th>\n",
              "      <td>@basicTeeC Lol, awww. Why she say that. That's...</td>\n",
              "      <td>-1</td>\n",
              "    </tr>\n",
              "    <tr>\n",
              "      <th>2945</th>\n",
              "      <td>RT @replacemusic: Poa - RS e Regi?o, fortelece...</td>\n",
              "      <td>0</td>\n",
              "    </tr>\n",
              "    <tr>\n",
              "      <th>439</th>\n",
              "      <td>RT @hypersem: Secret behind @FriendshipCircl s...</td>\n",
              "      <td>0</td>\n",
              "    </tr>\n",
              "    <tr>\n",
              "      <th>1981</th>\n",
              "      <td>@an_an0maly And just the baby thing in general...</td>\n",
              "      <td>0</td>\n",
              "    </tr>\n",
              "  </tbody>\n",
              "</table>\n",
              "</div>"
            ],
            "text/plain": [
              "                                                  tweet  sent\n",
              "3235  RT @MonStarMimz: RT @violetnight: F A S H I O ...    -1\n",
              "2163  @basicTeeC Lol, awww. Why she say that. That's...    -1\n",
              "2945  RT @replacemusic: Poa - RS e Regi?o, fortelece...     0\n",
              "439   RT @hypersem: Secret behind @FriendshipCircl s...     0\n",
              "1981  @an_an0maly And just the baby thing in general...     0"
            ]
          },
          "metadata": {
            "tags": []
          },
          "execution_count": 26
        }
      ]
    },
    {
      "cell_type": "code",
      "metadata": {
        "id": "oqS6Lhnl1zLS"
      },
      "source": [
        "import re"
      ],
      "execution_count": null,
      "outputs": []
    },
    {
      "cell_type": "code",
      "metadata": {
        "id": "qWlHBXE_2_Od"
      },
      "source": [
        "import re\n",
        "def clean_up(tweet):\n",
        "  s = re.sub(r\"(?:\\@|https?\\://)\\S+\", \"\", tweet).replace(\"#\", \"\")\n",
        "  return \"\".join(s.split())"
      ],
      "execution_count": 2,
      "outputs": []
    },
    {
      "cell_type": "code",
      "metadata": {
        "id": "-SHkXeYmIkIc",
        "outputId": "68a79876-11a5-4647-8dcf-7a1240948f74",
        "colab": {
          "base_uri": "https://localhost:8080/",
          "height": 35
        }
      },
      "source": [
        "clean_up('#OMG WTF @BBQ http://omg.wtf lol')"
      ],
      "execution_count": 3,
      "outputs": [
        {
          "output_type": "execute_result",
          "data": {
            "application/vnd.google.colaboratory.intrinsic+json": {
              "type": "string"
            },
            "text/plain": [
              "'OMG WTF   lol'"
            ]
          },
          "metadata": {
            "tags": []
          },
          "execution_count": 3
        }
      ]
    },
    {
      "cell_type": "code",
      "metadata": {
        "id": "_qkHVtfK24D1"
      },
      "source": [
        "data__['tweet'] = data__['tweet'].map(clean_up)"
      ],
      "execution_count": null,
      "outputs": []
    },
    {
      "cell_type": "code",
      "metadata": {
        "id": "TvWvsNtW3NPu",
        "outputId": "3d3916ee-5220-4829-c2f3-c387b836aa28",
        "colab": {
          "base_uri": "https://localhost:8080/",
          "height": 359
        }
      },
      "source": [
        "data__.sample(10)"
      ],
      "execution_count": null,
      "outputs": [
        {
          "output_type": "execute_result",
          "data": {
            "text/html": [
              "<div>\n",
              "<style scoped>\n",
              "    .dataframe tbody tr th:only-of-type {\n",
              "        vertical-align: middle;\n",
              "    }\n",
              "\n",
              "    .dataframe tbody tr th {\n",
              "        vertical-align: top;\n",
              "    }\n",
              "\n",
              "    .dataframe thead th {\n",
              "        text-align: right;\n",
              "    }\n",
              "</style>\n",
              "<table border=\"1\" class=\"dataframe\">\n",
              "  <thead>\n",
              "    <tr style=\"text-align: right;\">\n",
              "      <th></th>\n",
              "      <th>tweet</th>\n",
              "      <th>sent</th>\n",
              "    </tr>\n",
              "  </thead>\n",
              "  <tbody>\n",
              "    <tr>\n",
              "      <th>884</th>\n",
              "      <td>- Fran &amp; MATH</td>\n",
              "      <td>0</td>\n",
              "    </tr>\n",
              "    <tr>\n",
              "      <th>4191</th>\n",
              "      <td>Following you via  Looking forward to your tw...</td>\n",
              "      <td>1</td>\n",
              "    </tr>\n",
              "    <tr>\n",
              "      <th>1422</th>\n",
              "      <td>I wonder if my followers will ever reach doubl...</td>\n",
              "      <td>1</td>\n",
              "    </tr>\n",
              "    <tr>\n",
              "      <th>942</th>\n",
              "      <td>True RT  Halo Legends &amp; Black Dynamite come ou...</td>\n",
              "      <td>0</td>\n",
              "    </tr>\n",
              "    <tr>\n",
              "      <th>801</th>\n",
              "      <td>RT  #GhettoVdayGifts watchin movie BET blackbu...</td>\n",
              "      <td>0</td>\n",
              "    </tr>\n",
              "    <tr>\n",
              "      <th>1047</th>\n",
              "      <td>RT  I come dressed as any pill you deem fit. W...</td>\n",
              "      <td>1</td>\n",
              "    </tr>\n",
              "    <tr>\n",
              "      <th>2971</th>\n",
              "      <td>Yup, that shit hard, if you wanna Download it...</td>\n",
              "      <td>0</td>\n",
              "    </tr>\n",
              "    <tr>\n",
              "      <th>3374</th>\n",
              "      <td>okays, im gonna do my makeup and get dressed n...</td>\n",
              "      <td>-1</td>\n",
              "    </tr>\n",
              "    <tr>\n",
              "      <th>2575</th>\n",
              "      <td>Closed Friday, February 26: Due to inclement w...</td>\n",
              "      <td>-1</td>\n",
              "    </tr>\n",
              "    <tr>\n",
              "      <th>3931</th>\n",
              "      <td>RT  Shout! RT  RT  can we get a shout out for ...</td>\n",
              "      <td>1</td>\n",
              "    </tr>\n",
              "  </tbody>\n",
              "</table>\n",
              "</div>"
            ],
            "text/plain": [
              "                                                  tweet  sent\n",
              "884                                       - Fran & MATH     0\n",
              "4191   Following you via  Looking forward to your tw...     1\n",
              "1422  I wonder if my followers will ever reach doubl...     1\n",
              "942   True RT  Halo Legends & Black Dynamite come ou...     0\n",
              "801   RT  #GhettoVdayGifts watchin movie BET blackbu...     0\n",
              "1047  RT  I come dressed as any pill you deem fit. W...     1\n",
              "2971   Yup, that shit hard, if you wanna Download it...     0\n",
              "3374  okays, im gonna do my makeup and get dressed n...    -1\n",
              "2575  Closed Friday, February 26: Due to inclement w...    -1\n",
              "3931  RT  Shout! RT  RT  can we get a shout out for ...     1"
            ]
          },
          "metadata": {
            "tags": []
          },
          "execution_count": 30
        }
      ]
    },
    {
      "cell_type": "code",
      "metadata": {
        "id": "CEaA0mNX3Oil"
      },
      "source": [
        "pd.set_option('max_colwidth', 280)\n",
        "#280 is max tweet size"
      ],
      "execution_count": null,
      "outputs": []
    },
    {
      "cell_type": "code",
      "metadata": {
        "id": "GLnWq2p83gdG",
        "outputId": "1495d745-8666-408b-d646-fc057f7a902f",
        "colab": {
          "base_uri": "https://localhost:8080/",
          "height": 376
        }
      },
      "source": [
        "data__.sample(10)"
      ],
      "execution_count": null,
      "outputs": [
        {
          "output_type": "execute_result",
          "data": {
            "text/html": [
              "<div>\n",
              "<style scoped>\n",
              "    .dataframe tbody tr th:only-of-type {\n",
              "        vertical-align: middle;\n",
              "    }\n",
              "\n",
              "    .dataframe tbody tr th {\n",
              "        vertical-align: top;\n",
              "    }\n",
              "\n",
              "    .dataframe thead th {\n",
              "        text-align: right;\n",
              "    }\n",
              "</style>\n",
              "<table border=\"1\" class=\"dataframe\">\n",
              "  <thead>\n",
              "    <tr style=\"text-align: right;\">\n",
              "      <th></th>\n",
              "      <th>tweet</th>\n",
              "      <th>sent</th>\n",
              "    </tr>\n",
              "  </thead>\n",
              "  <tbody>\n",
              "    <tr>\n",
              "      <th>552</th>\n",
              "      <td>Q:IS IT TRUE THAT MAMA DANCA AH BREED FI YU??? A:wat the fuk.......... ah wah kinna suicidal n...</td>\n",
              "      <td>-1</td>\n",
              "    </tr>\n",
              "    <tr>\n",
              "      <th>2549</th>\n",
              "      <td>THIS BUSH HERE AND ITLL BE OUR LITTLE SECRET.... IF YOU TELL ANYONE THAT ITS THERE ILL COME TO YOUR HOUSE AND I WILL CUT YOU!</td>\n",
              "      <td>-1</td>\n",
              "    </tr>\n",
              "    <tr>\n",
              "      <th>3242</th>\n",
              "      <td>[AZ news] Ariz. House votes to try using tires to fill mines</td>\n",
              "      <td>0</td>\n",
              "    </tr>\n",
              "    <tr>\n",
              "      <th>1606</th>\n",
              "      <td>#imfromGvegas where da good die young! RIP my nigga skee</td>\n",
              "      <td>-1</td>\n",
              "    </tr>\n",
              "    <tr>\n",
              "      <th>1552</th>\n",
              "      <td>#FREE Digsby! Integrate your MSN, Yahoo, AIM, ICQ, Jabber, Facebook, Twitter accounts into one interface!  #comp #</td>\n",
              "      <td>0</td>\n",
              "    </tr>\n",
              "    <tr>\n",
              "      <th>3400</th>\n",
              "      <td>I wud but...my bday tomoro..I ain't puttn it down for no1..sum1 gotta put it dwn for me.. #imjustsayin</td>\n",
              "      <td>0</td>\n",
              "    </tr>\n",
              "    <tr>\n",
              "      <th>4073</th>\n",
              "      <td>RT  RT  Next time you hear \"that's how we always do it\" say \"today is not yesterday.\" #ideas10</td>\n",
              "      <td>0</td>\n",
              "    </tr>\n",
              "    <tr>\n",
              "      <th>3365</th>\n",
              "      <td>Turkey presses Obama ahead of Armenia genocide vote</td>\n",
              "      <td>0</td>\n",
              "    </tr>\n",
              "    <tr>\n",
              "      <th>3656</th>\n",
              "      <td>Revenue managers.....why are we stuck with rooms only? arent there other revenue producing areas???</td>\n",
              "      <td>-1</td>\n",
              "    </tr>\n",
              "    <tr>\n",
              "      <th>2085</th>\n",
              "      <td>RT  \"Marijuana, in its natural form, is one of the safest therapeutically active substances known to man.\"</td>\n",
              "      <td>1</td>\n",
              "    </tr>\n",
              "  </tbody>\n",
              "</table>\n",
              "</div>"
            ],
            "text/plain": [
              "                                                                                                                              tweet  sent\n",
              "552                              Q:IS IT TRUE THAT MAMA DANCA AH BREED FI YU??? A:wat the fuk.......... ah wah kinna suicidal n...     -1\n",
              "2549  THIS BUSH HERE AND ITLL BE OUR LITTLE SECRET.... IF YOU TELL ANYONE THAT ITS THERE ILL COME TO YOUR HOUSE AND I WILL CUT YOU!    -1\n",
              "3242                                                                  [AZ news] Ariz. House votes to try using tires to fill mines      0\n",
              "1606                                                                      #imfromGvegas where da good die young! RIP my nigga skee     -1\n",
              "1552             #FREE Digsby! Integrate your MSN, Yahoo, AIM, ICQ, Jabber, Facebook, Twitter accounts into one interface!  #comp #     0\n",
              "3400                         I wud but...my bday tomoro..I ain't puttn it down for no1..sum1 gotta put it dwn for me.. #imjustsayin     0\n",
              "4073                                 RT  RT  Next time you hear \"that's how we always do it\" say \"today is not yesterday.\" #ideas10     0\n",
              "3365                                                                           Turkey presses Obama ahead of Armenia genocide vote      0\n",
              "3656                            Revenue managers.....why are we stuck with rooms only? arent there other revenue producing areas???    -1\n",
              "2085                     RT  \"Marijuana, in its natural form, is one of the safest therapeutically active substances known to man.\"     1"
            ]
          },
          "metadata": {
            "tags": []
          },
          "execution_count": 32
        }
      ]
    },
    {
      "cell_type": "code",
      "metadata": {
        "id": "UGUnD7cY3h9F"
      },
      "source": [
        "def strip_hashtag(tweet):\n",
        "  return tweet.replace(\"#\", \"\")"
      ],
      "execution_count": null,
      "outputs": []
    },
    {
      "cell_type": "code",
      "metadata": {
        "id": "HBXDLW1a49R3"
      },
      "source": [
        "data__['tweet'] = data__['tweet'].map(strip_hashtag)"
      ],
      "execution_count": null,
      "outputs": []
    },
    {
      "cell_type": "code",
      "metadata": {
        "id": "H3LBQrQ05A7U",
        "outputId": "2adf00fb-7a34-4616-f079-206f2fd80de2",
        "colab": {
          "base_uri": "https://localhost:8080/",
          "height": 204
        }
      },
      "source": [
        "data__.sample(5)"
      ],
      "execution_count": null,
      "outputs": [
        {
          "output_type": "execute_result",
          "data": {
            "text/html": [
              "<div>\n",
              "<style scoped>\n",
              "    .dataframe tbody tr th:only-of-type {\n",
              "        vertical-align: middle;\n",
              "    }\n",
              "\n",
              "    .dataframe tbody tr th {\n",
              "        vertical-align: top;\n",
              "    }\n",
              "\n",
              "    .dataframe thead th {\n",
              "        text-align: right;\n",
              "    }\n",
              "</style>\n",
              "<table border=\"1\" class=\"dataframe\">\n",
              "  <thead>\n",
              "    <tr style=\"text-align: right;\">\n",
              "      <th></th>\n",
              "      <th>tweet</th>\n",
              "      <th>sent</th>\n",
              "    </tr>\n",
              "  </thead>\n",
              "  <tbody>\n",
              "    <tr>\n",
              "      <th>2777</th>\n",
              "      <td>RT  Oh shit!!..here come some more aftershox....sweet jesus,and baby jesus!! Chile TerremotoChile</td>\n",
              "      <td>-1</td>\n",
              "    </tr>\n",
              "    <tr>\n",
              "      <th>1413</th>\n",
              "      <td>I might have 2 take a trip 2 east 2 and watch or join one day lmaoooo Twitterafterdark hahah im going to bed</td>\n",
              "      <td>1</td>\n",
              "    </tr>\n",
              "    <tr>\n",
              "      <th>1473</th>\n",
              "      <td>ok mami im sorry that shit happened last night :( jus like i told my nigha  *kiss on the cheek*</td>\n",
              "      <td>0</td>\n",
              "    </tr>\n",
              "    <tr>\n",
              "      <th>3812</th>\n",
              "      <td>Okay !! Im Gewd !! Got a random axx text from T n he made my day !!</td>\n",
              "      <td>1</td>\n",
              "    </tr>\n",
              "    <tr>\n",
              "      <th>3719</th>\n",
              "      <td>Re: Latency checker - in a XenDesktop env you can get the latency (and BW) with HDX monitor</td>\n",
              "      <td>0</td>\n",
              "    </tr>\n",
              "  </tbody>\n",
              "</table>\n",
              "</div>"
            ],
            "text/plain": [
              "                                                                                                              tweet  sent\n",
              "2777              RT  Oh shit!!..here come some more aftershox....sweet jesus,and baby jesus!! Chile TerremotoChile    -1\n",
              "1413   I might have 2 take a trip 2 east 2 and watch or join one day lmaoooo Twitterafterdark hahah im going to bed     1\n",
              "1473                ok mami im sorry that shit happened last night :( jus like i told my nigha  *kiss on the cheek*     0\n",
              "3812                                            Okay !! Im Gewd !! Got a random axx text from T n he made my day !!     1\n",
              "3719                   Re: Latency checker - in a XenDesktop env you can get the latency (and BW) with HDX monitor      0"
            ]
          },
          "metadata": {
            "tags": []
          },
          "execution_count": 35
        }
      ]
    },
    {
      "cell_type": "code",
      "metadata": {
        "id": "unNaiuWo5Cgn",
        "outputId": "4d62a99b-ccef-4d8e-fb93-056dae409fee",
        "colab": {
          "base_uri": "https://localhost:8080/",
          "height": 69
        }
      },
      "source": [
        "'''\n",
        "Coding sources:\n",
        "https://stackoverflow.com/questions/13896056/how-to-remove-user-mentions-and-urls-in-a-tweet-string-using-python\n",
        "https://stackoverflow.com/questions/60013721/how-to-see-complete-rows-in-google-colab\n",
        "https://stackoverflow.com/questions/48681118/python-remove-hashtag-symbol-and-keep-key-words/48682499\n",
        "'''"
      ],
      "execution_count": null,
      "outputs": [
        {
          "output_type": "execute_result",
          "data": {
            "application/vnd.google.colaboratory.intrinsic+json": {
              "type": "string"
            },
            "text/plain": [
              "'\\nCoding sources:\\nhttps://stackoverflow.com/questions/13896056/how-to-remove-user-mentions-and-urls-in-a-tweet-string-using-python\\nhttps://stackoverflow.com/questions/60013721/how-to-see-complete-rows-in-google-colab\\nhttps://stackoverflow.com/questions/48681118/python-remove-hashtag-symbol-and-keep-key-words/48682499\\n'"
            ]
          },
          "metadata": {
            "tags": []
          },
          "execution_count": 36
        }
      ]
    },
    {
      "cell_type": "code",
      "metadata": {
        "id": "mWxNByP_VsSP"
      },
      "source": [
        "data__.to_csv('training_data.csv', index=False)"
      ],
      "execution_count": null,
      "outputs": []
    },
    {
      "cell_type": "code",
      "metadata": {
        "id": "4XO8dhTWcOSE"
      },
      "source": [
        ""
      ],
      "execution_count": null,
      "outputs": []
    }
  ]
}