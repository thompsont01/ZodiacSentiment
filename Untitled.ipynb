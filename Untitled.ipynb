{
 "cells": [
  {
   "cell_type": "code",
   "execution_count": 1,
   "metadata": {},
   "outputs": [],
   "source": [
    "from vaderSentiment.vaderSentiment import SentimentIntensityAnalyzer\n",
    "import pandas as pd\n",
    "import numpy as np"
   ]
  },
  {
   "cell_type": "code",
   "execution_count": 2,
   "metadata": {},
   "outputs": [],
   "source": [
    "import matplotlib.pyplot as plt"
   ]
  },
  {
   "cell_type": "code",
   "execution_count": 3,
   "metadata": {},
   "outputs": [],
   "source": [
    "#VADER sentiment analyzer is a pre-trained sentiment analyzer designed for social media\n",
    "analyser = SentimentIntensityAnalyzer()"
   ]
  },
  {
   "cell_type": "code",
   "execution_count": 4,
   "metadata": {},
   "outputs": [],
   "source": [
    "data = pd.read_csv('tweets_11_7.csv')"
   ]
  },
  {
   "cell_type": "code",
   "execution_count": 5,
   "metadata": {},
   "outputs": [
    {
     "data": {
      "text/html": [
       "<div>\n",
       "<style scoped>\n",
       "    .dataframe tbody tr th:only-of-type {\n",
       "        vertical-align: middle;\n",
       "    }\n",
       "\n",
       "    .dataframe tbody tr th {\n",
       "        vertical-align: top;\n",
       "    }\n",
       "\n",
       "    .dataframe thead th {\n",
       "        text-align: right;\n",
       "    }\n",
       "</style>\n",
       "<table border=\"1\" class=\"dataframe\">\n",
       "  <thead>\n",
       "    <tr style=\"text-align: right;\">\n",
       "      <th></th>\n",
       "      <th>User</th>\n",
       "      <th>text</th>\n",
       "      <th>Date</th>\n",
       "    </tr>\n",
       "  </thead>\n",
       "  <tbody>\n",
       "    <tr>\n",
       "      <th>209</th>\n",
       "      <td>@ZodiacLife</td>\n",
       "      <td>The latest The Celebrity Aries Dish Daily! htt...</td>\n",
       "      <td>Thu Nov 05 05:05:57 +0000 2020</td>\n",
       "    </tr>\n",
       "    <tr>\n",
       "      <th>87</th>\n",
       "      <td>@ZodiacTerms</td>\n",
       "      <td>#Taurus would be like a meadow or pasture; gra...</td>\n",
       "      <td>Sun Apr 23 02:37:05 +0000 2017</td>\n",
       "    </tr>\n",
       "    <tr>\n",
       "      <th>254</th>\n",
       "      <td>@ZodiacLife</td>\n",
       "      <td>The latest The Celebrity Capricorn Daily! http...</td>\n",
       "      <td>Fri Oct 30 23:21:23 +0000 2020</td>\n",
       "    </tr>\n",
       "    <tr>\n",
       "      <th>263</th>\n",
       "      <td>@ZodiacLife</td>\n",
       "      <td>The latest The Celebrity Aquarius Dish Daily! ...</td>\n",
       "      <td>Fri Oct 30 01:33:21 +0000 2020</td>\n",
       "    </tr>\n",
       "    <tr>\n",
       "      <th>279</th>\n",
       "      <td>@ZodiacLife</td>\n",
       "      <td>The latest The Celebrity Cancer Dish Daily! ht...</td>\n",
       "      <td>Wed Oct 28 11:42:47 +0000 2020</td>\n",
       "    </tr>\n",
       "    <tr>\n",
       "      <th>65</th>\n",
       "      <td>@ZodiacTerms</td>\n",
       "      <td>#Sagittarius: They usually like to be independ...</td>\n",
       "      <td>Thu Apr 27 03:51:08 +0000 2017</td>\n",
       "    </tr>\n",
       "    <tr>\n",
       "      <th>165</th>\n",
       "      <td>@ZodiacHub</td>\n",
       "      <td>The signs as witches:\\r\\n\\r\\nAries: hot witch\\...</td>\n",
       "      <td>Sat Oct 19 11:41:58 +0000 2019</td>\n",
       "    </tr>\n",
       "    <tr>\n",
       "      <th>391</th>\n",
       "      <td>@zodiacashomes</td>\n",
       "      <td>This store sells plant vases and holders 😫 \\r\\...</td>\n",
       "      <td>Sat Nov 07 18:30:25 +0000 2020</td>\n",
       "    </tr>\n",
       "    <tr>\n",
       "      <th>344</th>\n",
       "      <td>@ZodiacKilla69</td>\n",
       "      <td>@CommunityPicks Appreciate it bro, same for yo...</td>\n",
       "      <td>Mon Oct 12 20:59:54 +0000 2020</td>\n",
       "    </tr>\n",
       "    <tr>\n",
       "      <th>121</th>\n",
       "      <td>@ZodiacHub</td>\n",
       "      <td>zodiac signs that will do almost anything to g...</td>\n",
       "      <td>Sat Oct 10 03:51:47 +0000 2020</td>\n",
       "    </tr>\n",
       "  </tbody>\n",
       "</table>\n",
       "</div>"
      ],
      "text/plain": [
       "               User                                               text  \\\n",
       "209     @ZodiacLife  The latest The Celebrity Aries Dish Daily! htt...   \n",
       "87     @ZodiacTerms  #Taurus would be like a meadow or pasture; gra...   \n",
       "254     @ZodiacLife  The latest The Celebrity Capricorn Daily! http...   \n",
       "263     @ZodiacLife  The latest The Celebrity Aquarius Dish Daily! ...   \n",
       "279     @ZodiacLife  The latest The Celebrity Cancer Dish Daily! ht...   \n",
       "65     @ZodiacTerms  #Sagittarius: They usually like to be independ...   \n",
       "165      @ZodiacHub  The signs as witches:\\r\\n\\r\\nAries: hot witch\\...   \n",
       "391  @zodiacashomes  This store sells plant vases and holders 😫 \\r\\...   \n",
       "344  @ZodiacKilla69  @CommunityPicks Appreciate it bro, same for yo...   \n",
       "121      @ZodiacHub  zodiac signs that will do almost anything to g...   \n",
       "\n",
       "                               Date  \n",
       "209  Thu Nov 05 05:05:57 +0000 2020  \n",
       "87   Sun Apr 23 02:37:05 +0000 2017  \n",
       "254  Fri Oct 30 23:21:23 +0000 2020  \n",
       "263  Fri Oct 30 01:33:21 +0000 2020  \n",
       "279  Wed Oct 28 11:42:47 +0000 2020  \n",
       "65   Thu Apr 27 03:51:08 +0000 2017  \n",
       "165  Sat Oct 19 11:41:58 +0000 2019  \n",
       "391  Sat Nov 07 18:30:25 +0000 2020  \n",
       "344  Mon Oct 12 20:59:54 +0000 2020  \n",
       "121  Sat Oct 10 03:51:47 +0000 2020  "
      ]
     },
     "execution_count": 5,
     "metadata": {},
     "output_type": "execute_result"
    }
   ],
   "source": [
    "data.sample(10)"
   ]
  },
  {
   "cell_type": "code",
   "execution_count": null,
   "metadata": {},
   "outputs": [],
   "source": []
  }
 ],
 "metadata": {
  "kernelspec": {
   "display_name": "Python 3",
   "language": "python",
   "name": "python3"
  },
  "language_info": {
   "codemirror_mode": {
    "name": "ipython",
    "version": 3
   },
   "file_extension": ".py",
   "mimetype": "text/x-python",
   "name": "python",
   "nbconvert_exporter": "python",
   "pygments_lexer": "ipython3",
   "version": "3.7.6"
  }
 },
 "nbformat": 4,
 "nbformat_minor": 4
}
